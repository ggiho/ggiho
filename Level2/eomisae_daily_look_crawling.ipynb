{
 "cells": [
  {
   "cell_type": "code",
   "execution_count": 2,
   "metadata": {},
   "outputs": [],
   "source": [
    "from urllib.request import urlopen\n",
    "from urllib.parse import quote_plus\n",
    "from bs4 import BeautifulSoup\n",
    "\n",
    "import telegram\n",
    "from telegram.ext import Updater\n",
    "from telegram.ext import MessageHandler, Filters\n",
    "from selenium import webdriver\n",
    "import urllib.request as req\n",
    "import os\n",
    "from selenium.webdriver.support.ui import WebDriverWait\n",
    "from selenium.webdriver.support import expected_conditions as EC\n",
    "from selenium.webdriver.common.by import By"
   ]
  },
  {
   "cell_type": "code",
   "execution_count": 4,
   "metadata": {},
   "outputs": [
    {
     "name": "stderr",
     "output_type": "stream",
     "text": [
      "Error while getting Updates: Bad Gateway\n",
      "No error handlers are registered, logging exception.\n",
      "Traceback (most recent call last):\n",
      "  File \"c:\\users\\giho\\appdata\\local\\programs\\python\\python38-32\\lib\\site-packages\\telegram\\ext\\updater.py\", line 520, in _network_loop_retry\n",
      "    if not action_cb():\n",
      "  File \"c:\\users\\giho\\appdata\\local\\programs\\python\\python38-32\\lib\\site-packages\\telegram\\ext\\updater.py\", line 471, in polling_action_cb\n",
      "    updates = self.bot.get_updates(\n",
      "  File \"c:\\users\\giho\\appdata\\local\\programs\\python\\python38-32\\lib\\site-packages\\telegram\\bot.py\", line 127, in decorator\n",
      "    result = func(*args, **kwargs)\n",
      "  File \"c:\\users\\giho\\appdata\\local\\programs\\python\\python38-32\\lib\\site-packages\\telegram\\bot.py\", line 2761, in get_updates\n",
      "    result = self._post(\n",
      "  File \"c:\\users\\giho\\appdata\\local\\programs\\python\\python38-32\\lib\\site-packages\\telegram\\bot.py\", line 259, in _post\n",
      "    return self.request.post(\n",
      "  File \"c:\\users\\giho\\appdata\\local\\programs\\python\\python38-32\\lib\\site-packages\\telegram\\utils\\request.py\", line 350, in post\n",
      "    result = self._request_wrapper(\n",
      "  File \"c:\\users\\giho\\appdata\\local\\programs\\python\\python38-32\\lib\\site-packages\\telegram\\utils\\request.py\", line 284, in _request_wrapper\n",
      "    raise NetworkError('Bad Gateway')\n",
      "telegram.error.NetworkError: Bad Gateway\n",
      "Error while getting Updates: urllib3 HTTPError ('Connection aborted.', ConnectionResetError(10054, '현재 연결은 원격 호스트에 의해 강제로 끊겼습니다', None, 10054, None))\n",
      "No error handlers are registered, logging exception.\n",
      "Traceback (most recent call last):\n",
      "  File \"c:\\users\\giho\\appdata\\local\\programs\\python\\python38-32\\lib\\site-packages\\telegram\\vendor\\ptb_urllib3\\urllib3\\connectionpool.py\", line 614, in urlopen\n",
      "    httplib_response = self._make_request(conn, method, url,\n",
      "  File \"c:\\users\\giho\\appdata\\local\\programs\\python\\python38-32\\lib\\site-packages\\telegram\\vendor\\ptb_urllib3\\urllib3\\connectionpool.py\", line 402, in _make_request\n",
      "    six.raise_from(e, None)\n",
      "  File \"<string>\", line 2, in raise_from\n",
      "  File \"c:\\users\\giho\\appdata\\local\\programs\\python\\python38-32\\lib\\site-packages\\telegram\\vendor\\ptb_urllib3\\urllib3\\connectionpool.py\", line 398, in _make_request\n",
      "    httplib_response = conn.getresponse()\n",
      "  File \"c:\\users\\giho\\appdata\\local\\programs\\python\\python38-32\\lib\\http\\client.py\", line 1322, in getresponse\n",
      "    response.begin()\n",
      "  File \"c:\\users\\giho\\appdata\\local\\programs\\python\\python38-32\\lib\\http\\client.py\", line 303, in begin\n",
      "    version, status, reason = self._read_status()\n",
      "  File \"c:\\users\\giho\\appdata\\local\\programs\\python\\python38-32\\lib\\http\\client.py\", line 264, in _read_status\n",
      "    line = str(self.fp.readline(_MAXLINE + 1), \"iso-8859-1\")\n",
      "  File \"c:\\users\\giho\\appdata\\local\\programs\\python\\python38-32\\lib\\socket.py\", line 669, in readinto\n",
      "    return self._sock.recv_into(b)\n",
      "  File \"c:\\users\\giho\\appdata\\local\\programs\\python\\python38-32\\lib\\ssl.py\", line 1241, in recv_into\n",
      "    return self.read(nbytes, buffer)\n",
      "  File \"c:\\users\\giho\\appdata\\local\\programs\\python\\python38-32\\lib\\ssl.py\", line 1099, in read\n",
      "    return self._sslobj.read(len, buffer)\n",
      "ConnectionResetError: [WinError 10054] 현재 연결은 원격 호스트에 의해 강제로 끊겼습니다\n",
      "\n",
      "During handling of the above exception, another exception occurred:\n",
      "\n",
      "Traceback (most recent call last):\n",
      "  File \"c:\\users\\giho\\appdata\\local\\programs\\python\\python38-32\\lib\\site-packages\\telegram\\utils\\request.py\", line 253, in _request_wrapper\n",
      "    resp = self._con_pool.request(*args, **kwargs)\n",
      "  File \"c:\\users\\giho\\appdata\\local\\programs\\python\\python38-32\\lib\\site-packages\\telegram\\vendor\\ptb_urllib3\\urllib3\\request.py\", line 68, in request\n",
      "    return self.request_encode_body(method, url, fields=fields,\n",
      "  File \"c:\\users\\giho\\appdata\\local\\programs\\python\\python38-32\\lib\\site-packages\\telegram\\vendor\\ptb_urllib3\\urllib3\\request.py\", line 148, in request_encode_body\n",
      "    return self.urlopen(method, url, **extra_kw)\n",
      "  File \"c:\\users\\giho\\appdata\\local\\programs\\python\\python38-32\\lib\\site-packages\\telegram\\vendor\\ptb_urllib3\\urllib3\\poolmanager.py\", line 244, in urlopen\n",
      "    response = conn.urlopen(method, u.request_uri, **kw)\n",
      "  File \"c:\\users\\giho\\appdata\\local\\programs\\python\\python38-32\\lib\\site-packages\\telegram\\vendor\\ptb_urllib3\\urllib3\\connectionpool.py\", line 665, in urlopen\n",
      "    retries = retries.increment(method, url, error=e, _pool=self,\n",
      "  File \"c:\\users\\giho\\appdata\\local\\programs\\python\\python38-32\\lib\\site-packages\\telegram\\vendor\\ptb_urllib3\\urllib3\\util\\retry.py\", line 347, in increment\n",
      "    raise six.reraise(type(error), error, _stacktrace)\n",
      "  File \"c:\\users\\giho\\appdata\\local\\programs\\python\\python38-32\\lib\\site-packages\\telegram\\vendor\\ptb_urllib3\\urllib3\\packages\\six.py\", line 685, in reraise\n",
      "    raise value.with_traceback(tb)\n",
      "  File \"c:\\users\\giho\\appdata\\local\\programs\\python\\python38-32\\lib\\site-packages\\telegram\\vendor\\ptb_urllib3\\urllib3\\connectionpool.py\", line 614, in urlopen\n",
      "    httplib_response = self._make_request(conn, method, url,\n",
      "  File \"c:\\users\\giho\\appdata\\local\\programs\\python\\python38-32\\lib\\site-packages\\telegram\\vendor\\ptb_urllib3\\urllib3\\connectionpool.py\", line 402, in _make_request\n",
      "    six.raise_from(e, None)\n",
      "  File \"<string>\", line 2, in raise_from\n",
      "  File \"c:\\users\\giho\\appdata\\local\\programs\\python\\python38-32\\lib\\site-packages\\telegram\\vendor\\ptb_urllib3\\urllib3\\connectionpool.py\", line 398, in _make_request\n",
      "    httplib_response = conn.getresponse()\n",
      "  File \"c:\\users\\giho\\appdata\\local\\programs\\python\\python38-32\\lib\\http\\client.py\", line 1322, in getresponse\n",
      "    response.begin()\n",
      "  File \"c:\\users\\giho\\appdata\\local\\programs\\python\\python38-32\\lib\\http\\client.py\", line 303, in begin\n",
      "    version, status, reason = self._read_status()\n",
      "  File \"c:\\users\\giho\\appdata\\local\\programs\\python\\python38-32\\lib\\http\\client.py\", line 264, in _read_status\n",
      "    line = str(self.fp.readline(_MAXLINE + 1), \"iso-8859-1\")\n",
      "  File \"c:\\users\\giho\\appdata\\local\\programs\\python\\python38-32\\lib\\socket.py\", line 669, in readinto\n",
      "    return self._sock.recv_into(b)\n",
      "  File \"c:\\users\\giho\\appdata\\local\\programs\\python\\python38-32\\lib\\ssl.py\", line 1241, in recv_into\n",
      "    return self.read(nbytes, buffer)\n",
      "  File \"c:\\users\\giho\\appdata\\local\\programs\\python\\python38-32\\lib\\ssl.py\", line 1099, in read\n",
      "    return self._sslobj.read(len, buffer)\n",
      "telegram.vendor.ptb_urllib3.urllib3.exceptions.ProtocolError: ('Connection aborted.', ConnectionResetError(10054, '현재 연결은 원격 호스트에 의해 강제로 끊겼습니다', None, 10054, None))\n",
      "\n",
      "The above exception was the direct cause of the following exception:\n",
      "\n",
      "Traceback (most recent call last):\n",
      "  File \"c:\\users\\giho\\appdata\\local\\programs\\python\\python38-32\\lib\\site-packages\\telegram\\ext\\updater.py\", line 520, in _network_loop_retry\n",
      "    if not action_cb():\n",
      "  File \"c:\\users\\giho\\appdata\\local\\programs\\python\\python38-32\\lib\\site-packages\\telegram\\ext\\updater.py\", line 471, in polling_action_cb\n",
      "    updates = self.bot.get_updates(\n",
      "  File \"c:\\users\\giho\\appdata\\local\\programs\\python\\python38-32\\lib\\site-packages\\telegram\\bot.py\", line 127, in decorator\n",
      "    result = func(*args, **kwargs)\n",
      "  File \"c:\\users\\giho\\appdata\\local\\programs\\python\\python38-32\\lib\\site-packages\\telegram\\bot.py\", line 2761, in get_updates\n",
      "    result = self._post(\n",
      "  File \"c:\\users\\giho\\appdata\\local\\programs\\python\\python38-32\\lib\\site-packages\\telegram\\bot.py\", line 259, in _post\n",
      "    return self.request.post(\n",
      "  File \"c:\\users\\giho\\appdata\\local\\programs\\python\\python38-32\\lib\\site-packages\\telegram\\utils\\request.py\", line 350, in post\n",
      "    result = self._request_wrapper(\n",
      "  File \"c:\\users\\giho\\appdata\\local\\programs\\python\\python38-32\\lib\\site-packages\\telegram\\utils\\request.py\", line 259, in _request_wrapper\n",
      "    raise NetworkError(f'urllib3 HTTPError {error}') from error\n",
      "telegram.error.NetworkError: urllib3 HTTPError ('Connection aborted.', ConnectionResetError(10054, '현재 연결은 원격 호스트에 의해 강제로 끊겼습니다', None, 10054, None))\n",
      "Error while getting Updates: urllib3 HTTPError HTTPSConnectionPool(host='api.telegram.org', port=443): Max retries exceeded with url: /bot1619112566:AAHwELmPR7PUxElV2fYPsNZWvWX1bI7nsmA/getUpdates (Caused by NewConnectionError('<telegram.vendor.ptb_urllib3.urllib3.connection.VerifiedHTTPSConnection object at 0x07C3D898>: Failed to establish a new connection: [Errno 11001] getaddrinfo failed'))\n",
      "No error handlers are registered, logging exception.\n",
      "Traceback (most recent call last):\n",
      "  File \"c:\\users\\giho\\appdata\\local\\programs\\python\\python38-32\\lib\\site-packages\\telegram\\vendor\\ptb_urllib3\\urllib3\\connection.py\", line 140, in _new_conn\n",
      "    conn = connection.create_connection(\n",
      "  File \"c:\\users\\giho\\appdata\\local\\programs\\python\\python38-32\\lib\\site-packages\\telegram\\vendor\\ptb_urllib3\\urllib3\\util\\connection.py\", line 60, in create_connection\n",
      "    for res in socket.getaddrinfo(host, port, family, socket.SOCK_STREAM):\n",
      "  File \"c:\\users\\giho\\appdata\\local\\programs\\python\\python38-32\\lib\\socket.py\", line 918, in getaddrinfo\n",
      "    for res in _socket.getaddrinfo(host, port, family, type, proto, flags):\n",
      "socket.gaierror: [Errno 11001] getaddrinfo failed\n",
      "\n",
      "During handling of the above exception, another exception occurred:\n",
      "\n",
      "Traceback (most recent call last):\n",
      "  File \"c:\\users\\giho\\appdata\\local\\programs\\python\\python38-32\\lib\\site-packages\\telegram\\vendor\\ptb_urllib3\\urllib3\\connectionpool.py\", line 614, in urlopen\n",
      "    httplib_response = self._make_request(conn, method, url,\n",
      "  File \"c:\\users\\giho\\appdata\\local\\programs\\python\\python38-32\\lib\\site-packages\\telegram\\vendor\\ptb_urllib3\\urllib3\\connectionpool.py\", line 360, in _make_request\n",
      "    self._validate_conn(conn)\n",
      "  File \"c:\\users\\giho\\appdata\\local\\programs\\python\\python38-32\\lib\\site-packages\\telegram\\vendor\\ptb_urllib3\\urllib3\\connectionpool.py\", line 857, in _validate_conn\n",
      "    super(HTTPSConnectionPool, self)._validate_conn(conn)\n",
      "  File \"c:\\users\\giho\\appdata\\local\\programs\\python\\python38-32\\lib\\site-packages\\telegram\\vendor\\ptb_urllib3\\urllib3\\connectionpool.py\", line 289, in _validate_conn\n",
      "    conn.connect()\n",
      "  File \"c:\\users\\giho\\appdata\\local\\programs\\python\\python38-32\\lib\\site-packages\\telegram\\vendor\\ptb_urllib3\\urllib3\\connection.py\", line 284, in connect\n",
      "    conn = self._new_conn()\n",
      "  File \"c:\\users\\giho\\appdata\\local\\programs\\python\\python38-32\\lib\\site-packages\\telegram\\vendor\\ptb_urllib3\\urllib3\\connection.py\", line 149, in _new_conn\n",
      "    raise NewConnectionError(\n",
      "telegram.vendor.ptb_urllib3.urllib3.exceptions.NewConnectionError: <telegram.vendor.ptb_urllib3.urllib3.connection.VerifiedHTTPSConnection object at 0x07C3D898>: Failed to establish a new connection: [Errno 11001] getaddrinfo failed\n",
      "\n",
      "During handling of the above exception, another exception occurred:\n",
      "\n",
      "Traceback (most recent call last):\n",
      "  File \"c:\\users\\giho\\appdata\\local\\programs\\python\\python38-32\\lib\\site-packages\\telegram\\utils\\request.py\", line 253, in _request_wrapper\n",
      "    resp = self._con_pool.request(*args, **kwargs)\n",
      "  File \"c:\\users\\giho\\appdata\\local\\programs\\python\\python38-32\\lib\\site-packages\\telegram\\vendor\\ptb_urllib3\\urllib3\\request.py\", line 68, in request\n",
      "    return self.request_encode_body(method, url, fields=fields,\n",
      "  File \"c:\\users\\giho\\appdata\\local\\programs\\python\\python38-32\\lib\\site-packages\\telegram\\vendor\\ptb_urllib3\\urllib3\\request.py\", line 148, in request_encode_body\n",
      "    return self.urlopen(method, url, **extra_kw)\n",
      "  File \"c:\\users\\giho\\appdata\\local\\programs\\python\\python38-32\\lib\\site-packages\\telegram\\vendor\\ptb_urllib3\\urllib3\\poolmanager.py\", line 244, in urlopen\n",
      "    response = conn.urlopen(method, u.request_uri, **kw)\n",
      "  File \"c:\\users\\giho\\appdata\\local\\programs\\python\\python38-32\\lib\\site-packages\\telegram\\vendor\\ptb_urllib3\\urllib3\\connectionpool.py\", line 691, in urlopen\n",
      "    return self.urlopen(method, url, body, headers, retries,\n",
      "  File \"c:\\users\\giho\\appdata\\local\\programs\\python\\python38-32\\lib\\site-packages\\telegram\\vendor\\ptb_urllib3\\urllib3\\connectionpool.py\", line 691, in urlopen\n",
      "    return self.urlopen(method, url, body, headers, retries,\n",
      "  File \"c:\\users\\giho\\appdata\\local\\programs\\python\\python38-32\\lib\\site-packages\\telegram\\vendor\\ptb_urllib3\\urllib3\\connectionpool.py\", line 691, in urlopen\n",
      "    return self.urlopen(method, url, body, headers, retries,\n",
      "  File \"c:\\users\\giho\\appdata\\local\\programs\\python\\python38-32\\lib\\site-packages\\telegram\\vendor\\ptb_urllib3\\urllib3\\connectionpool.py\", line 665, in urlopen\n",
      "    retries = retries.increment(method, url, error=e, _pool=self,\n",
      "  File \"c:\\users\\giho\\appdata\\local\\programs\\python\\python38-32\\lib\\site-packages\\telegram\\vendor\\ptb_urllib3\\urllib3\\util\\retry.py\", line 376, in increment\n",
      "    raise MaxRetryError(_pool, url, error or ResponseError(cause))\n",
      "telegram.vendor.ptb_urllib3.urllib3.exceptions.MaxRetryError: HTTPSConnectionPool(host='api.telegram.org', port=443): Max retries exceeded with url: /bot1619112566:AAHwELmPR7PUxElV2fYPsNZWvWX1bI7nsmA/getUpdates (Caused by NewConnectionError('<telegram.vendor.ptb_urllib3.urllib3.connection.VerifiedHTTPSConnection object at 0x07C3D898>: Failed to establish a new connection: [Errno 11001] getaddrinfo failed'))\n",
      "\n",
      "The above exception was the direct cause of the following exception:\n",
      "\n",
      "Traceback (most recent call last):\n",
      "  File \"c:\\users\\giho\\appdata\\local\\programs\\python\\python38-32\\lib\\site-packages\\telegram\\ext\\updater.py\", line 520, in _network_loop_retry\n",
      "    if not action_cb():\n",
      "  File \"c:\\users\\giho\\appdata\\local\\programs\\python\\python38-32\\lib\\site-packages\\telegram\\ext\\updater.py\", line 471, in polling_action_cb\n",
      "    updates = self.bot.get_updates(\n",
      "  File \"c:\\users\\giho\\appdata\\local\\programs\\python\\python38-32\\lib\\site-packages\\telegram\\bot.py\", line 127, in decorator\n",
      "    result = func(*args, **kwargs)\n",
      "  File \"c:\\users\\giho\\appdata\\local\\programs\\python\\python38-32\\lib\\site-packages\\telegram\\bot.py\", line 2761, in get_updates\n",
      "    result = self._post(\n",
      "  File \"c:\\users\\giho\\appdata\\local\\programs\\python\\python38-32\\lib\\site-packages\\telegram\\bot.py\", line 259, in _post\n",
      "    return self.request.post(\n",
      "  File \"c:\\users\\giho\\appdata\\local\\programs\\python\\python38-32\\lib\\site-packages\\telegram\\utils\\request.py\", line 350, in post\n",
      "    result = self._request_wrapper(\n",
      "  File \"c:\\users\\giho\\appdata\\local\\programs\\python\\python38-32\\lib\\site-packages\\telegram\\utils\\request.py\", line 259, in _request_wrapper\n",
      "    raise NetworkError(f'urllib3 HTTPError {error}') from error\n",
      "telegram.error.NetworkError: urllib3 HTTPError HTTPSConnectionPool(host='api.telegram.org', port=443): Max retries exceeded with url: /bot1619112566:AAHwELmPR7PUxElV2fYPsNZWvWX1bI7nsmA/getUpdates (Caused by NewConnectionError('<telegram.vendor.ptb_urllib3.urllib3.connection.VerifiedHTTPSConnection object at 0x07C3D898>: Failed to establish a new connection: [Errno 11001] getaddrinfo failed'))\n"
     ]
    }
   ],
   "source": [
    "######## 크롤링 관련 함수 ########\n",
    "\n",
    "def get_daily_look():\n",
    "    #데일리룩 가져오기\n",
    "    base_url = 'https://eomisae.co.kr/dl'\n",
    "    html = urlopen(base_url).read()\n",
    "    soup = BeautifulSoup(html,'html.parser')\n",
    "    detail_urls = soup.find_all(class_='hx')\n",
    "    n = 1\n",
    "    for detail_url in detail_urls:\n",
    "        detail_url = detail_url['href']\n",
    "        html = urlopen(detail_url).read()\n",
    "        soup = BeautifulSoup(html,'html.parser')\n",
    "        imgs = soup.find_all(class_='xe_content')\n",
    "\n",
    "    #     # 작성자 정보 keep\n",
    "    #     writer = soup.find_all('a',class_='pjax')\n",
    "    #     print(writer[0])\n",
    "\n",
    "        # 이미지 저장\n",
    "        for img in imgs:\n",
    "            d_imgs = img('img')        \n",
    "            for d_img in d_imgs:\n",
    "                print(d_img['src'])\n",
    "                with urlopen(base_url+d_img['src']) as f:\n",
    "                    with open('./eomisae/' + 'eomisae' + str(n) + '.jpg', 'wb') as h:\n",
    "                        get_img = f.read()\n",
    "                        h.write(get_img)\n",
    "                        n+=1    \n",
    "    print('끝')  \n",
    "######## 텔레그램 관련 코드 ########\n",
    "token = \"1619112566:AAHwELmPR7PUxElV2fYPsNZWvWX1bI7nsmA\"\n",
    "id = \"1715934395\"\n",
    " \n",
    "bot = telegram.Bot(token)\n",
    "info_message = '''- 데일리룩 : \"데일리룩\" or \"ㄷㅇㄹㄹ\" 입력\n",
    "'''\n",
    "bot.sendMessage(chat_id=id, text=info_message)\n",
    " \n",
    "updater = Updater(token=token, use_context=True)\n",
    "dispatcher = updater.dispatcher\n",
    "updater.start_polling()\n",
    " \n",
    "### 챗봇 답장\n",
    "def handler(update, context):\n",
    "    user_text = update.message.text # 사용자가 보낸 메세지를 user_text 변수에 저장합니다.\n",
    "    # 코로나 관련 이미지 답장\n",
    "    if (user_text == \"데일리룩\") or (user_text == \"ㄷㅇㄹㄹ\"):\n",
    "        bot.send_message(chat_id=id, text=\"최신 이미지 크롤링 중...\")\n",
    "#         covid_image_crawling(image_num=10)\n",
    "        # 이미지 한장만 보내기\n",
    "        # bot.send_photo(chat_id=id, photo=open(\"./코로나이미지/0.png\", 'rb'))\n",
    "        # 이미지 여러장 묶어서 보내기\n",
    "#         get_daily_look()\n",
    "        photo_list = []\n",
    "        for i in range(1,11): # 이미지 파일 개수만큼 for문 돌리기\n",
    "            photo_list.append(telegram.InputMediaPhoto(open(\"./eomisae/eomisae{}.jpg\".format(i), \"rb\")))\n",
    "        bot.sendMediaGroup(chat_id=id, media=photo_list)\n",
    "        bot.sendMessage(chat_id=id, text=info_message)\n",
    "#         photo_list = []\n",
    "#         for i in range(1,len(os.walk(\"./eomisae\").__next__()[2])): # 이미지 파일 개수만큼 for문 돌리기\n",
    "#             photo_list.append(telegram.InputMediaPhoto(open(\"./eomisae/eomisae{}.jpg\".format(i), \"rb\")))\n",
    "#         bot.sendMediaGroup(chat_id=id, media=photo_list)\n",
    "#         bot.sendMessage(chat_id=id, text=info_message)\n",
    " \n",
    "echo_handler = MessageHandler(Filters.text, handler)\n",
    "dispatcher.add_handler(echo_handler)"
   ]
  },
  {
   "cell_type": "code",
   "execution_count": 45,
   "metadata": {},
   "outputs": [
    {
     "name": "stderr",
     "output_type": "stream",
     "text": [
      "Some characters could not be decoded, and were replaced with REPLACEMENT CHARACTER.\n"
     ]
    }
   ],
   "source": [
    "#quote_plus(url) -- 한글 ascii코드로 변환\n",
    "url = 'https://eomisae.co.kr/dl'\n",
    "html = urlopen(url).read()\n",
    "soup = BeautifulSoup(html, 'html.parser')\n",
    "img = soup.find_all(class_='tmb')\n",
    "n = 1"
   ]
  },
  {
   "cell_type": "code",
   "execution_count": 3,
   "metadata": {},
   "outputs": [
    {
     "name": "stderr",
     "output_type": "stream",
     "text": [
      "Some characters could not be decoded, and were replaced with REPLACEMENT CHARACTER.\n",
      "Some characters could not be decoded, and were replaced with REPLACEMENT CHARACTER.\n"
     ]
    },
    {
     "name": "stdout",
     "output_type": "stream",
     "text": [
      "//img.eomisae.co.kr/files/attach/images/100572/922/706/063/831565a4daf9acfdf6570597f738b65a.jpeg\n"
     ]
    },
    {
     "name": "stderr",
     "output_type": "stream",
     "text": [
      "Some characters could not be decoded, and were replaced with REPLACEMENT CHARACTER.\n"
     ]
    },
    {
     "name": "stdout",
     "output_type": "stream",
     "text": [
      "//img.eomisae.co.kr/files/attach/images/100572/405/705/063/9dd66f0c9919775b3fae8c072025c632.jpg\n"
     ]
    },
    {
     "name": "stderr",
     "output_type": "stream",
     "text": [
      "Some characters could not be decoded, and were replaced with REPLACEMENT CHARACTER.\n"
     ]
    },
    {
     "name": "stdout",
     "output_type": "stream",
     "text": [
      "//img.eomisae.co.kr/files/attach/images/100572/613/704/063/eabbf0eaa351d83c48b3f399e8a9514e.jpg\n"
     ]
    },
    {
     "name": "stderr",
     "output_type": "stream",
     "text": [
      "Some characters could not be decoded, and were replaced with REPLACEMENT CHARACTER.\n"
     ]
    },
    {
     "name": "stdout",
     "output_type": "stream",
     "text": [
      "//img.eomisae.co.kr/files/attach/images/100572/632/703/063/620816110c36df5de44ca3e1296b24d4.jpg\n"
     ]
    },
    {
     "name": "stderr",
     "output_type": "stream",
     "text": [
      "Some characters could not be decoded, and were replaced with REPLACEMENT CHARACTER.\n"
     ]
    },
    {
     "name": "stdout",
     "output_type": "stream",
     "text": [
      "//img.eomisae.co.kr/files/attach/images/100572/850/696/063/6709e29817225eef463272ea70bbfd81.jpeg\n"
     ]
    },
    {
     "name": "stderr",
     "output_type": "stream",
     "text": [
      "Some characters could not be decoded, and were replaced with REPLACEMENT CHARACTER.\n"
     ]
    },
    {
     "name": "stdout",
     "output_type": "stream",
     "text": [
      "//img.eomisae.co.kr/files/attach/images/100572/226/696/063/c4df3a48d9b28e9c715dce70574d19cf.jpeg\n",
      "//img.eomisae.co.kr/files/attach/images/100572/226/696/063/10d6c94d42f31eeaeb8f1b67e1adfd07.jpeg\n"
     ]
    },
    {
     "name": "stderr",
     "output_type": "stream",
     "text": [
      "Some characters could not be decoded, and were replaced with REPLACEMENT CHARACTER.\n"
     ]
    },
    {
     "name": "stdout",
     "output_type": "stream",
     "text": [
      "//img.eomisae.co.kr/files/attach/images/100572/934/693/063/0f41cb7c5b04a0182b294f7863dc81ae.jpeg\n",
      "//img.eomisae.co.kr/files/attach/images/100572/934/693/063/298bb5bf63be10794f7afd1306bc4f0f.jpeg\n"
     ]
    },
    {
     "name": "stderr",
     "output_type": "stream",
     "text": [
      "Some characters could not be decoded, and were replaced with REPLACEMENT CHARACTER.\n"
     ]
    },
    {
     "name": "stdout",
     "output_type": "stream",
     "text": [
      "//img.eomisae.co.kr/files/attach/images/100572/805/693/063/d358b96a056671fa510da84c54a0b56c.jpg\n"
     ]
    },
    {
     "name": "stderr",
     "output_type": "stream",
     "text": [
      "Some characters could not be decoded, and were replaced with REPLACEMENT CHARACTER.\n"
     ]
    },
    {
     "name": "stdout",
     "output_type": "stream",
     "text": [
      "//img.eomisae.co.kr/files/attach/images/100572/632/687/063/a244b968d4471174284bc8a353ea2e56.jpg\n"
     ]
    },
    {
     "name": "stderr",
     "output_type": "stream",
     "text": [
      "Some characters could not be decoded, and were replaced with REPLACEMENT CHARACTER.\n"
     ]
    },
    {
     "name": "stdout",
     "output_type": "stream",
     "text": [
      "//img.eomisae.co.kr/files/attach/images/100572/896/685/063/437359c791451cb7c7fbd9d808966173.jpeg\n"
     ]
    },
    {
     "name": "stderr",
     "output_type": "stream",
     "text": [
      "Some characters could not be decoded, and were replaced with REPLACEMENT CHARACTER.\n"
     ]
    },
    {
     "name": "stdout",
     "output_type": "stream",
     "text": [
      "//img.eomisae.co.kr/files/attach/images/100572/799/685/063/a207d7f75310b6d6d631feca211d7ca0.jpeg\n",
      "//img.eomisae.co.kr/files/attach/images/100572/799/685/063/0844e4406e778c7890fdbdf46f39a592.jpeg\n"
     ]
    },
    {
     "name": "stderr",
     "output_type": "stream",
     "text": [
      "Some characters could not be decoded, and were replaced with REPLACEMENT CHARACTER.\n"
     ]
    },
    {
     "name": "stdout",
     "output_type": "stream",
     "text": [
      "//img.eomisae.co.kr/files/attach/images/100572/099/675/063/ab890ba33c45cfedde23b7e34606b290.jpeg\n"
     ]
    },
    {
     "name": "stderr",
     "output_type": "stream",
     "text": [
      "Some characters could not be decoded, and were replaced with REPLACEMENT CHARACTER.\n"
     ]
    },
    {
     "name": "stdout",
     "output_type": "stream",
     "text": [
      "//img.eomisae.co.kr/files/attach/images/100572/726/673/063/16bd8b0d463bf8c123d93e7d77dd4756.jpeg\n"
     ]
    },
    {
     "name": "stderr",
     "output_type": "stream",
     "text": [
      "Some characters could not be decoded, and were replaced with REPLACEMENT CHARACTER.\n"
     ]
    },
    {
     "name": "stdout",
     "output_type": "stream",
     "text": [
      "//img.eomisae.co.kr/files/attach/images/100572/010/673/063/62db26636e006f2efdacc462d3bfb59e.jpeg\n"
     ]
    },
    {
     "name": "stderr",
     "output_type": "stream",
     "text": [
      "Some characters could not be decoded, and were replaced with REPLACEMENT CHARACTER.\n"
     ]
    },
    {
     "name": "stdout",
     "output_type": "stream",
     "text": [
      "//img.eomisae.co.kr/files/attach/images/100572/265/671/063/91162c92a5e93b26465f87c6149d18b1.jpeg\n"
     ]
    },
    {
     "name": "stderr",
     "output_type": "stream",
     "text": [
      "Some characters could not be decoded, and were replaced with REPLACEMENT CHARACTER.\n"
     ]
    },
    {
     "name": "stdout",
     "output_type": "stream",
     "text": [
      "//img.eomisae.co.kr/files/attach/images/100572/480/660/063/ff13d0250fc191d5cc2214db3ab8fc2e.jpeg\n"
     ]
    },
    {
     "name": "stderr",
     "output_type": "stream",
     "text": [
      "Some characters could not be decoded, and were replaced with REPLACEMENT CHARACTER.\n"
     ]
    },
    {
     "name": "stdout",
     "output_type": "stream",
     "text": [
      "//img.eomisae.co.kr/files/attach/images/100572/532/654/063/493a3351aa90be070847255b450756d2.jpeg\n"
     ]
    },
    {
     "name": "stderr",
     "output_type": "stream",
     "text": [
      "Some characters could not be decoded, and were replaced with REPLACEMENT CHARACTER.\n"
     ]
    },
    {
     "name": "stdout",
     "output_type": "stream",
     "text": [
      "//img.eomisae.co.kr/files/attach/images/100572/859/653/063/a0ef1f133c31f8209d8a592a0cbf4224.jpeg\n"
     ]
    },
    {
     "name": "stderr",
     "output_type": "stream",
     "text": [
      "Some characters could not be decoded, and were replaced with REPLACEMENT CHARACTER.\n"
     ]
    },
    {
     "name": "stdout",
     "output_type": "stream",
     "text": [
      "//img.eomisae.co.kr/files/attach/images/100572/414/651/063/bdadcaee45d8338ada55b8236b47eb66.jpg\n"
     ]
    },
    {
     "name": "stderr",
     "output_type": "stream",
     "text": [
      "Some characters could not be decoded, and were replaced with REPLACEMENT CHARACTER.\n"
     ]
    },
    {
     "name": "stdout",
     "output_type": "stream",
     "text": [
      "//img.eomisae.co.kr/files/attach/images/100572/501/649/063/b3f33f4b3db1dd13f4acf7f2618b60a8.jpeg\n",
      "끝\n"
     ]
    }
   ],
   "source": [
    "#데일리룩 가져오기\n",
    "base_url = 'https://eomisae.co.kr/dl'\n",
    "html = urlopen(base_url).read()\n",
    "soup = BeautifulSoup(html,'html.parser')\n",
    "detail_urls = soup.find_all(class_='hx')\n",
    "n = 1\n",
    "for detail_url in detail_urls:\n",
    "    detail_url = detail_url['href']\n",
    "    html = urlopen(detail_url).read()\n",
    "    soup = BeautifulSoup(html,'html.parser')\n",
    "    imgs = soup.find_all(class_='xe_content')\n",
    "    \n",
    "#     # 작성자 정보 keep\n",
    "#     writer = soup.find_all('a',class_='pjax')\n",
    "#     print(writer[0])\n",
    "    \n",
    "    # 이미지 저장\n",
    "    for img in imgs:\n",
    "        d_imgs = img('img')        \n",
    "        for d_img in d_imgs:\n",
    "            print(d_img['src'])\n",
    "            with urlopen(base_url+d_img['src']) as f:\n",
    "                with open('./eomisae/' + 'eomisae' + str(n) + '.jpg', 'wb') as h:\n",
    "                    get_img = f.read()\n",
    "                    h.write(get_img)\n",
    "                    n+=1    \n",
    "print('끝')                    "
   ]
  },
  {
   "cell_type": "code",
   "execution_count": 46,
   "metadata": {},
   "outputs": [
    {
     "name": "stdout",
     "output_type": "stream",
     "text": [
      "[<a class=\"pjax hx\" href=\"https://eomisae.co.kr/dl/63396141\"><span class=\"blind\">Read More</span></a>, <a class=\"pjax hx\" href=\"https://eomisae.co.kr/dl/63476709\"><span class=\"blind\">Read More</span></a>, <a class=\"pjax hx\" href=\"https://eomisae.co.kr/dl/63472375\"><span class=\"blind\">Read More</span></a>, <a class=\"pjax hx\" href=\"https://eomisae.co.kr/dl/63472181\"><span class=\"blind\">Read More</span></a>, <a class=\"pjax hx\" href=\"https://eomisae.co.kr/dl/63471312\"><span class=\"blind\">Read More</span></a>, <a class=\"pjax hx\" href=\"https://eomisae.co.kr/dl/63460893\"><span class=\"blind\">Read More</span></a>, <a class=\"pjax hx\" href=\"https://eomisae.co.kr/dl/63460110\"><span class=\"blind\">Read More</span></a>, <a class=\"pjax hx\" href=\"https://eomisae.co.kr/dl/63459107\"><span class=\"blind\">Read More</span></a>, <a class=\"pjax hx\" href=\"https://eomisae.co.kr/dl/63459095\"><span class=\"blind\">Read More</span></a>, <a class=\"pjax hx\" href=\"https://eomisae.co.kr/dl/63457482\"><span class=\"blind\">Read More</span></a>, <a class=\"pjax hx\" href=\"https://eomisae.co.kr/dl/63455006\"><span class=\"blind\">Read More</span></a>, <a class=\"pjax hx\" href=\"https://eomisae.co.kr/dl/63453356\"><span class=\"blind\">Read More</span></a>, <a class=\"pjax hx\" href=\"https://eomisae.co.kr/dl/63451502\"><span class=\"blind\">Read More</span></a>, <a class=\"pjax hx\" href=\"https://eomisae.co.kr/dl/63448120\"><span class=\"blind\">Read More</span></a>, <a class=\"pjax hx\" href=\"https://eomisae.co.kr/dl/63444676\"><span class=\"blind\">Read More</span></a>, <a class=\"pjax hx\" href=\"https://eomisae.co.kr/dl/63444333\"><span class=\"blind\">Read More</span></a>, <a class=\"pjax hx\" href=\"https://eomisae.co.kr/dl/63443294\"><span class=\"blind\">Read More</span></a>, <a class=\"pjax hx\" href=\"https://eomisae.co.kr/dl/63442349\"><span class=\"blind\">Read More</span></a>, <a class=\"pjax hx\" href=\"https://eomisae.co.kr/dl/63438422\"><span class=\"blind\">Read More</span></a>, <a class=\"pjax hx\" href=\"https://eomisae.co.kr/dl/63437545\"><span class=\"blind\">Read More</span></a>]\n"
     ]
    }
   ],
   "source": [
    "img = soup.find_all(class_='pjax hx')\n",
    "print(img)\n",
    "# html = urlopen(img).read()\n",
    "# print(html)\n",
    "# soup = BeautifulSoup(html, 'html.parser')\n",
    "# soup"
   ]
  },
  {
   "cell_type": "code",
   "execution_count": 51,
   "metadata": {},
   "outputs": [
    {
     "name": "stdout",
     "output_type": "stream",
     "text": [
      "https://eomisae.co.kr/dl/63476709\n",
      "https://eomisae.co.kr/dl/63476709\n",
      "https://eomisae.co.kr/dl/63476709\n",
      "https://eomisae.co.kr/dl/63476709\n",
      "https://eomisae.co.kr/dl/63476709\n",
      "https://eomisae.co.kr/dl/63476709\n",
      "https://eomisae.co.kr/dl/63476709\n",
      "https://eomisae.co.kr/dl/63476709\n",
      "https://eomisae.co.kr/dl/63476709\n",
      "https://eomisae.co.kr/dl/63476709\n",
      "https://eomisae.co.kr/dl/63476709\n",
      "https://eomisae.co.kr/dl/63476709\n",
      "https://eomisae.co.kr/dl/63476709\n",
      "https://eomisae.co.kr/dl/63476709\n",
      "https://eomisae.co.kr/dl/63476709\n",
      "https://eomisae.co.kr/dl/63476709\n",
      "https://eomisae.co.kr/dl/63476709\n",
      "https://eomisae.co.kr/dl/63476709\n",
      "https://eomisae.co.kr/dl/63476709\n",
      "https://eomisae.co.kr/dl/63476709\n",
      "https://eomisae.co.kr/dl/63476709\n",
      "https://eomisae.co.kr/dl/63476709\n",
      "https://eomisae.co.kr/dl/63476709\n",
      "https://eomisae.co.kr/dl/63476709\n",
      "https://eomisae.co.kr/dl/63476709\n",
      "https://eomisae.co.kr/dl/63476709\n",
      "https://eomisae.co.kr/dl/63476709\n",
      "https://eomisae.co.kr/dl/63476709\n",
      "https://eomisae.co.kr/dl/63476709\n",
      "https://eomisae.co.kr/dl/63476709\n",
      "https://eomisae.co.kr/dl/63476709\n",
      "https://eomisae.co.kr/dl/63476709\n",
      "https://eomisae.co.kr/dl/63476709\n",
      "Download Success!\n"
     ]
    }
   ],
   "source": [
    "for i in img:\n",
    "#     imgUrl = url+(i['src'])\n",
    "    imgUrl = img\n",
    "    print(imgUrl)\n",
    "    with urlopen(imgUrl) as f:\n",
    "        with open('eomisae' + str(n) + '.jpg', 'wb') as h:\n",
    "            get_img = f.read()\n",
    "            h.write(get_img)\n",
    "    n+=1\n",
    "print('Download Success!')"
   ]
  }
 ],
 "metadata": {
  "kernelspec": {
   "display_name": "Python 3",
   "language": "python",
   "name": "python3"
  },
  "language_info": {
   "codemirror_mode": {
    "name": "ipython",
    "version": 3
   },
   "file_extension": ".py",
   "mimetype": "text/x-python",
   "name": "python",
   "nbconvert_exporter": "python",
   "pygments_lexer": "ipython3",
   "version": "3.8.2"
  }
 },
 "nbformat": 4,
 "nbformat_minor": 4
}
