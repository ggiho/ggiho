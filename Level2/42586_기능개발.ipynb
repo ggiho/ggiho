{
 "cells": [
  {
   "cell_type": "code",
   "execution_count": 53,
   "metadata": {},
   "outputs": [],
   "source": [
    "progresses = [93, 30, 55] # return [2,1]\n",
    "speeds = [1, 30, 5] "
   ]
  },
  {
   "cell_type": "code",
   "execution_count": 67,
   "metadata": {},
   "outputs": [],
   "source": [
    "progresses = [95, 90, 99, 99, 80, 99] # return [1, 3, 2]\n",
    "speeds = [1, 1, 1, 1, 1, 1]\t"
   ]
  },
  {
   "cell_type": "code",
   "execution_count": 14,
   "metadata": {},
   "outputs": [
    {
     "data": {
      "text/plain": [
       "[96, 91, 100, 100, 81, 100]"
      ]
     },
     "execution_count": 14,
     "metadata": {},
     "output_type": "execute_result"
    }
   ],
   "source": [
    "[x+y for x,y in zip(progresses,speeds)]"
   ]
  },
  {
   "cell_type": "code",
   "execution_count": 15,
   "metadata": {},
   "outputs": [
    {
     "data": {
      "text/plain": [
       "[(95, 1), (90, 1), (99, 1), (99, 1), (80, 1), (99, 1)]"
      ]
     },
     "execution_count": 15,
     "metadata": {},
     "output_type": "execute_result"
    }
   ],
   "source": [
    "list(zip(progresses,speeds))"
   ]
  },
  {
   "cell_type": "code",
   "execution_count": 17,
   "metadata": {},
   "outputs": [
    {
     "data": {
      "text/plain": [
       "96"
      ]
     },
     "execution_count": 17,
     "metadata": {},
     "output_type": "execute_result"
    }
   ],
   "source": [
    "progresses[0]+speeds[0]"
   ]
  },
  {
   "cell_type": "code",
   "execution_count": 22,
   "metadata": {},
   "outputs": [
    {
     "data": {
      "text/plain": [
       "[96, 91, 100, 100, 81, 100]"
      ]
     },
     "execution_count": 22,
     "metadata": {},
     "output_type": "execute_result"
    }
   ],
   "source": [
    "list(map(sum,zip(progresses,speeds)))"
   ]
  },
  {
   "cell_type": "code",
   "execution_count": 68,
   "metadata": {},
   "outputs": [
    {
     "name": "stdout",
     "output_type": "stream",
     "text": [
      "[96, 91, 100, 100, 81, 100] 0\n",
      "[97, 92, 101, 101, 82, 101] 0\n",
      "[98, 93, 102, 102, 83, 102] 0\n",
      "[99, 94, 103, 103, 84, 103] 0\n",
      "[100, 95, 104, 104, 85, 104] 0\n",
      "i= 1 n= 0\n",
      "[101, 96, 105, 105, 86, 105] 1\n",
      "[102, 97, 106, 106, 87, 106] 1\n",
      "[103, 98, 107, 107, 88, 107] 1\n",
      "[104, 99, 108, 108, 89, 108] 1\n",
      "[105, 100, 109, 109, 90, 109] 1\n",
      "i= 4 n= 1\n",
      "[106, 101, 110, 110, 91, 110] 4\n",
      "[107, 102, 111, 111, 92, 111] 4\n",
      "[108, 103, 112, 112, 93, 112] 4\n",
      "[109, 104, 113, 113, 94, 113] 4\n",
      "[110, 105, 114, 114, 95, 114] 4\n",
      "[111, 106, 115, 115, 96, 115] 4\n",
      "[112, 107, 116, 116, 97, 116] 4\n",
      "[113, 108, 117, 117, 98, 117] 4\n",
      "[114, 109, 118, 118, 99, 118] 4\n",
      "[115, 110, 119, 119, 100, 119] 4\n"
     ]
    },
    {
     "data": {
      "text/plain": [
       "[1, 3]"
      ]
     },
     "execution_count": 68,
     "metadata": {},
     "output_type": "execute_result"
    }
   ],
   "source": [
    "n = 0\n",
    "result = []\n",
    "while progresses[n] < 100:\n",
    "    progresses = list(map(sum,zip(progresses,speeds)))  \n",
    "    print(progresses, n)\n",
    "    if progresses[n] >= 100:\n",
    "        for i in range(n+1,len(progresses)):\n",
    "            if progresses[i] < 100:                \n",
    "                print('i=',i,'n=',n)\n",
    "                result.append(i-n)\n",
    "                n = i                                \n",
    "                break\n",
    "    if n > len(progresses):\n",
    "        break\n",
    "result"
   ]
  }
 ],
 "metadata": {
  "kernelspec": {
   "display_name": "Python 3",
   "language": "python",
   "name": "python3"
  },
  "language_info": {
   "codemirror_mode": {
    "name": "ipython",
    "version": 3
   },
   "file_extension": ".py",
   "mimetype": "text/x-python",
   "name": "python",
   "nbconvert_exporter": "python",
   "pygments_lexer": "ipython3",
   "version": "3.8.2"
  }
 },
 "nbformat": 4,
 "nbformat_minor": 4
}
