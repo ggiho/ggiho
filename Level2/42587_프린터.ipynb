{
 "cells": [
  {
   "cell_type": "code",
   "execution_count": 67,
   "metadata": {},
   "outputs": [],
   "source": [
    "priorities = [2, 1, 3, 2, 3]\n",
    "location = 1"
   ]
  },
  {
   "cell_type": "code",
   "execution_count": 68,
   "metadata": {},
   "outputs": [
    {
     "name": "stdout",
     "output_type": "stream",
     "text": [
      "priorities :  [2, 1, 3, 2, 3]\n",
      "max_priorities :  3\n",
      "location :  4\n",
      "priorities :  [3, 2, 3, 2, 1]\n",
      "pop priorities :  [2, 3, 2, 1]\n",
      "location :  3\n",
      "cnt :  2\n",
      "------------------------------\n",
      "priorities :  [2, 3, 2, 1]\n",
      "max_priorities :  3\n",
      "location :  2\n",
      "priorities :  [3, 2, 1, 2]\n",
      "pop priorities :  [2, 1, 2]\n",
      "location :  1\n",
      "cnt :  3\n",
      "------------------------------\n",
      "priorities :  [2, 1, 2]\n",
      "max_priorities :  2\n",
      "location :  1\n",
      "priorities :  [2, 1, 2]\n",
      "pop priorities :  [1, 2]\n",
      "location :  0\n",
      "cnt :  4\n",
      "------------------------------\n",
      "priorities :  [1, 2]\n",
      "max_priorities :  2\n",
      "location :  1\n",
      "priorities :  [2, 1]\n",
      "pop priorities :  [1]\n",
      "location :  0\n",
      "cnt :  5\n",
      "------------------------------\n",
      "priorities :  [1]\n"
     ]
    }
   ],
   "source": [
    "cnt = 1\n",
    "while True:    \n",
    "    print('priorities : ',priorities)\n",
    "    max_priorities = max(priorities)\n",
    "    if location == priorities.index(max_priorities):\n",
    "        break\n",
    "    print('max_priorities : ',max_priorities)\n",
    "    if location < priorities.index(max_priorities):\n",
    "        location = len(priorities[priorities.index(max_priorities):])+location\n",
    "    elif location > priorities.index(max_priorities):\n",
    "        location = location-len(priorities[:priorities.index(max_priorities)])    \n",
    "    print('location : ', location)\n",
    "    priorities = priorities[priorities.index(max_priorities):]+priorities[:priorities.index(max_priorities)]\n",
    "    print('priorities : ',priorities)\n",
    "    priorities.pop(0)\n",
    "    print('pop priorities : ', priorities)\n",
    "    location-=1\n",
    "    print('location : ',location)\n",
    "    cnt+=1\n",
    "    print('cnt : ',cnt)\n",
    "    print('------------------------------')    "
   ]
  },
  {
   "cell_type": "code",
   "execution_count": 66,
   "metadata": {},
   "outputs": [
    {
     "data": {
      "text/plain": [
       "4"
      ]
     },
     "execution_count": 66,
     "metadata": {},
     "output_type": "execute_result"
    }
   ],
   "source": [
    "cnt"
   ]
  }
 ],
 "metadata": {
  "kernelspec": {
   "display_name": "Python 3",
   "language": "python",
   "name": "python3"
  },
  "language_info": {
   "codemirror_mode": {
    "name": "ipython",
    "version": 3
   },
   "file_extension": ".py",
   "mimetype": "text/x-python",
   "name": "python",
   "nbconvert_exporter": "python",
   "pygments_lexer": "ipython3",
   "version": "3.8.2"
  }
 },
 "nbformat": 4,
 "nbformat_minor": 4
}
