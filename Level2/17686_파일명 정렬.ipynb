{
 "cells": [
  {
   "cell_type": "code",
   "execution_count": 150,
   "metadata": {},
   "outputs": [],
   "source": [
    "files = [\"img12.png\", \"img10.png\", \"img02.png\", \"img1.png\", \"IMG01.GIF\", \"img2.JPG\"]"
   ]
  },
  {
   "cell_type": "code",
   "execution_count": 155,
   "metadata": {},
   "outputs": [],
   "source": [
    "files = [\"F-5 Freedom Fighter\", \"B-5011 Superfortress223\", \"A-10 Thunderbolt II\", \"F-14 Tomcat\"]"
   ]
  },
  {
   "cell_type": "code",
   "execution_count": 17,
   "metadata": {},
   "outputs": [],
   "source": [
    "files = list(map(lambda x:x.lower(),files))"
   ]
  },
  {
   "cell_type": "code",
   "execution_count": 19,
   "metadata": {},
   "outputs": [
    {
     "data": {
      "text/plain": [
       "['a-10 thunderbolt ii',\n",
       " 'b-50 superfortress',\n",
       " 'f-14 tomcat',\n",
       " 'f-5 freedom fighter']"
      ]
     },
     "execution_count": 19,
     "metadata": {},
     "output_type": "execute_result"
    }
   ],
   "source": [
    "sorted(files)"
   ]
  },
  {
   "cell_type": "code",
   "execution_count": 33,
   "metadata": {},
   "outputs": [
    {
     "data": {
      "text/plain": [
       "2"
      ]
     },
     "execution_count": 33,
     "metadata": {},
     "output_type": "execute_result"
    }
   ],
   "source": [
    "files[0].index([i for i in files[0] if i.isdigit()][0])"
   ]
  },
  {
   "cell_type": "code",
   "execution_count": 36,
   "metadata": {},
   "outputs": [
    {
     "data": {
      "text/plain": [
       "['img12.png', 'img10.png', 'img02.png', 'img1.png', 'IMG01.GIF', 'img2.JPG']"
      ]
     },
     "execution_count": 36,
     "metadata": {},
     "output_type": "execute_result"
    }
   ],
   "source": [
    "files"
   ]
  },
  {
   "cell_type": "code",
   "execution_count": 41,
   "metadata": {},
   "outputs": [
    {
     "data": {
      "text/plain": [
       "'img'"
      ]
     },
     "execution_count": 41,
     "metadata": {},
     "output_type": "execute_result"
    }
   ],
   "source": [
    "files[0][:files[0].index([file for file in files[0] if file.isdigit()][0])]"
   ]
  },
  {
   "cell_type": "code",
   "execution_count": 42,
   "metadata": {},
   "outputs": [
    {
     "data": {
      "text/plain": [
       "['1', '2']"
      ]
     },
     "execution_count": 42,
     "metadata": {},
     "output_type": "execute_result"
    }
   ],
   "source": [
    "[file for file in files[0] if file.isdigit()]"
   ]
  },
  {
   "cell_type": "code",
   "execution_count": 25,
   "metadata": {},
   "outputs": [],
   "source": [
    "a = '5asd'"
   ]
  },
  {
   "cell_type": "code",
   "execution_count": 31,
   "metadata": {},
   "outputs": [
    {
     "data": {
      "text/plain": [
       "['5']"
      ]
     },
     "execution_count": 31,
     "metadata": {},
     "output_type": "execute_result"
    }
   ],
   "source": [
    "[i for i in files[0] if i.isdigit()]"
   ]
  },
  {
   "cell_type": "code",
   "execution_count": 115,
   "metadata": {},
   "outputs": [
    {
     "name": "stdout",
     "output_type": "stream",
     "text": [
      "[('img', '12', '.png'), ('img', '10', '.png'), ('img', '02', '.png'), ('img', '1', '.png'), ('IMG', '01', '.GIF'), ('img', '2', '.JPG')]\n"
     ]
    },
    {
     "data": {
      "text/plain": [
       "['img1.png', 'IMG01.GIF', 'img02.png', 'img2.JPG', 'img10.png', 'img12.png']"
      ]
     },
     "execution_count": 115,
     "metadata": {},
     "output_type": "execute_result"
    }
   ],
   "source": [
    "tail = []\n",
    "number = []\n",
    "head = []\n",
    "files_dict = {}\n",
    "files_list = []\n",
    "# files_dict['head'] = []\n",
    "# files_dict['number'] = []\n",
    "# files_dict['tail'] = []\n",
    "# files = list(map(lambda x:x.lower(),files))\n",
    "for i,file in enumerate(files):\n",
    "    tail_idx = file.find('.')\n",
    "    tail.append(file[tail_idx:])\n",
    "    number_idx = file.index([x for x in file if x.isdigit()][0])\n",
    "    files_list.append((file[:number_idx],file[number_idx:tail_idx],file[tail_idx:]))\n",
    "#     number.append(file[number_idx:tail_idx])\n",
    "#     head.append(file[:number_idx])\n",
    "#     files_dict['head'].append(file[:number_idx])\n",
    "#     files_dict['number'].append(file[number_idx:tail_idx])    \n",
    "#     files_dict['tail'].append(file[tail_idx:])\n",
    "#     files_dict[i] = [file[:number_idx],file[number_idx:tail_idx],file[tail_idx:]]\n",
    "# print(head,number,tail)\n",
    "print(files_list)\n",
    "files_list = sorted(files_list,key=(lambda x:(x[0].lower(),int(x[1]))))\n",
    "[''.join(file_list) for file_list in files_list]"
   ]
  },
  {
   "cell_type": "code",
   "execution_count": 116,
   "metadata": {},
   "outputs": [],
   "source": [
    "a = 'f-15'"
   ]
  },
  {
   "cell_type": "code",
   "execution_count": 117,
   "metadata": {},
   "outputs": [
    {
     "data": {
      "text/plain": [
       "-1"
      ]
     },
     "execution_count": 117,
     "metadata": {},
     "output_type": "execute_result"
    }
   ],
   "source": [
    "a.find('.')"
   ]
  },
  {
   "cell_type": "code",
   "execution_count": 140,
   "metadata": {},
   "outputs": [
    {
     "name": "stdout",
     "output_type": "stream",
     "text": [
      "[('F-', '5', ' Freedom Fighter'), ('B-', '5011', ' Superfortress'), ('A-', '10', ' Thunderbolt II'), ('F-', '14', ' Tomcat')]\n",
      "[('A-', '10', ' Thunderbolt II'), ('B-', '5011', ' Superfortress'), ('F-', '5', ' Freedom Fighter'), ('F-', '14', ' Tomcat')]\n"
     ]
    },
    {
     "data": {
      "text/plain": [
       "['A-10 Thunderbolt II',\n",
       " 'B-5011 Superfortress',\n",
       " 'F-5 Freedom Fighter',\n",
       " 'F-14 Tomcat']"
      ]
     },
     "execution_count": 140,
     "metadata": {},
     "output_type": "execute_result"
    }
   ],
   "source": [
    "files_list = []\n",
    "for file in files:\n",
    "    number_idx = file.index([x for x in file if x.isdigit()][0])\n",
    "    if file.find('.') == -1:\n",
    "        tail_idx = number_idx+len([x for x in file if x.isdigit()])    \n",
    "    else:\n",
    "        tail_idx = file.find('.')\n",
    "    files_list.append((file[:number_idx],file[number_idx:tail_idx],file[tail_idx:]))\n",
    "print(files_list)\n",
    "files_list = sorted(files_list,key=(lambda x:(x[0].lower(),int(x[1]))))\n",
    "print(files_list)\n",
    "[''.join(file_list) for file_list in files_list]"
   ]
  },
  {
   "cell_type": "code",
   "execution_count": 151,
   "metadata": {},
   "outputs": [
    {
     "name": "stdout",
     "output_type": "stream",
     "text": [
      "[('img', '12', '.png'), ('img', '10', '.png'), ('img', '02', '.png'), ('img', '1', '.png'), ('IMG', '01', '.GIF'), ('img', '2', '.JPG')]\n",
      "[('img', '1', '.png'), ('IMG', '01', '.GIF'), ('img', '02', '.png'), ('img', '2', '.JPG'), ('img', '10', '.png'), ('img', '12', '.png')]\n"
     ]
    },
    {
     "data": {
      "text/plain": [
       "['img1.png', 'IMG01.GIF', 'img02.png', 'img2.JPG', 'img10.png', 'img12.png']"
      ]
     },
     "execution_count": 151,
     "metadata": {},
     "output_type": "execute_result"
    }
   ],
   "source": [
    "files_list = []\n",
    "for file in files:\n",
    "    number = re.findall('\\d+',file)[0]\n",
    "    number_idx = file.index(number[0])\n",
    "    tail_idx = number_idx+len(number)    \n",
    "    files_list.append((file[:number_idx],file[number_idx:tail_idx],file[tail_idx:]))\n",
    "print(files_list)\n",
    "files_list = sorted(files_list,key=(lambda x:(x[0].lower(),int(x[1]))))\n",
    "print(files_list)\n",
    "[''.join(file_list) for file_list in files_list]"
   ]
  },
  {
   "cell_type": "code",
   "execution_count": 141,
   "metadata": {},
   "outputs": [],
   "source": [
    "import re"
   ]
  },
  {
   "cell_type": "code",
   "execution_count": 147,
   "metadata": {},
   "outputs": [
    {
     "data": {
      "text/plain": [
       "'5'"
      ]
     },
     "execution_count": 147,
     "metadata": {},
     "output_type": "execute_result"
    }
   ],
   "source": [
    "re.findall('\\d+',files[1])[0][0]"
   ]
  },
  {
   "cell_type": "code",
   "execution_count": 158,
   "metadata": {},
   "outputs": [
    {
     "data": {
      "text/plain": [
       "['A-10 Thunderbolt II',\n",
       " 'B-5011 Superfortress223',\n",
       " 'F-5 Freedom Fighter',\n",
       " 'F-14 Tomcat']"
      ]
     },
     "execution_count": 158,
     "metadata": {},
     "output_type": "execute_result"
    }
   ],
   "source": [
    "a = sorted(files, key=lambda file : int(re.findall('\\d+', file)[0]))\n",
    "b = sorted(a, key=lambda file : re.split('\\d+', file.lower())[0])\n",
    "b"
   ]
  }
 ],
 "metadata": {
  "kernelspec": {
   "display_name": "Python 3",
   "language": "python",
   "name": "python3"
  },
  "language_info": {
   "codemirror_mode": {
    "name": "ipython",
    "version": 3
   },
   "file_extension": ".py",
   "mimetype": "text/x-python",
   "name": "python",
   "nbconvert_exporter": "python",
   "pygments_lexer": "ipython3",
   "version": "3.8.2"
  }
 },
 "nbformat": 4,
 "nbformat_minor": 4
}
