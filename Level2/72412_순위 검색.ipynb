{
 "cells": [
  {
   "cell_type": "code",
   "execution_count": 3,
   "metadata": {},
   "outputs": [],
   "source": [
    "info = [\"java backend junior pizza 150\",\"python frontend senior chicken 210\",\"python frontend senior chicken 150\",\"cpp backend senior pizza 260\",\"java backend junior chicken 80\",\"python backend senior chicken 50\"]\n",
    "query = [\"java and backend and junior and pizza 100\",\"python and frontend and senior and chicken 200\",\"cpp and - and senior and pizza 250\",\"- and backend and senior and - 150\",\"- and - and - and chicken 100\",\"- and - and - and - 150\"]"
   ]
  },
  {
   "cell_type": "code",
   "execution_count": 2,
   "metadata": {},
   "outputs": [
    {
     "data": {
      "text/plain": [
       "['java backend junior pizza 150',\n",
       " 'python frontend senior chicken 210',\n",
       " 'python frontend senior chicken 150',\n",
       " 'cpp backend senior pizza 260',\n",
       " 'java backend junior chicken 80',\n",
       " 'python backend senior chicken 50']"
      ]
     },
     "execution_count": 2,
     "metadata": {},
     "output_type": "execute_result"
    }
   ],
   "source": [
    "info"
   ]
  },
  {
   "cell_type": "code",
   "execution_count": 4,
   "metadata": {},
   "outputs": [
    {
     "data": {
      "text/plain": [
       "['java and backend and junior and pizza 100',\n",
       " 'python and frontend and senior and chicken 200',\n",
       " 'cpp and - and senior and pizza 250',\n",
       " '- and backend and senior and - 150',\n",
       " '- and - and - and chicken 100',\n",
       " '- and - and - and - 150']"
      ]
     },
     "execution_count": 4,
     "metadata": {},
     "output_type": "execute_result"
    }
   ],
   "source": [
    "query"
   ]
  },
  {
   "cell_type": "code",
   "execution_count": 6,
   "metadata": {},
   "outputs": [
    {
     "data": {
      "text/plain": [
       "[['java ', ' backend ', ' junior ', ' pizza 100'],\n",
       " ['python ', ' frontend ', ' senior ', ' chicken 200'],\n",
       " ['cpp ', ' - ', ' senior ', ' pizza 250'],\n",
       " ['- ', ' backend ', ' senior ', ' - 150'],\n",
       " ['- ', ' - ', ' - ', ' chicken 100'],\n",
       " ['- ', ' - ', ' - ', ' - 150']]"
      ]
     },
     "execution_count": 6,
     "metadata": {},
     "output_type": "execute_result"
    }
   ],
   "source": [
    "[x.split('and') for x in query]"
   ]
  }
 ],
 "metadata": {
  "kernelspec": {
   "display_name": "Python 3",
   "language": "python",
   "name": "python3"
  },
  "language_info": {
   "codemirror_mode": {
    "name": "ipython",
    "version": 3
   },
   "file_extension": ".py",
   "mimetype": "text/x-python",
   "name": "python",
   "nbconvert_exporter": "python",
   "pygments_lexer": "ipython3",
   "version": "3.8.2"
  }
 },
 "nbformat": 4,
 "nbformat_minor": 4
}
