{
 "cells": [
  {
   "cell_type": "code",
   "execution_count": 41,
   "metadata": {},
   "outputs": [],
   "source": [
    "from itertools import permutations\n",
    "from itertools import combinations\n",
    "from itertools import islice"
   ]
  },
  {
   "cell_type": "code",
   "execution_count": 1,
   "metadata": {},
   "outputs": [],
   "source": [
    "str1 = 'FRANCE'\n",
    "str2 = 'french'"
   ]
  },
  {
   "cell_type": "code",
   "execution_count": 6,
   "metadata": {},
   "outputs": [
    {
     "data": {
      "text/plain": [
       "['F', 'R', 'A', 'N', 'C', 'E']"
      ]
     },
     "execution_count": 6,
     "metadata": {},
     "output_type": "execute_result"
    }
   ],
   "source": [
    "list(str1)"
   ]
  },
  {
   "cell_type": "code",
   "execution_count": 46,
   "metadata": {},
   "outputs": [
    {
     "data": {
      "text/plain": [
       "['F']"
      ]
     },
     "execution_count": 46,
     "metadata": {},
     "output_type": "execute_result"
    }
   ],
   "source": [
    "list(islice(str1,1))"
   ]
  },
  {
   "cell_type": "code",
   "execution_count": 39,
   "metadata": {},
   "outputs": [
    {
     "data": {
      "text/plain": [
       "[('F', 'R'),\n",
       " ('F', 'A'),\n",
       " ('F', 'N'),\n",
       " ('F', 'C'),\n",
       " ('F', 'E'),\n",
       " ('R', 'A'),\n",
       " ('R', 'N'),\n",
       " ('R', 'C'),\n",
       " ('R', 'E'),\n",
       " ('A', 'N'),\n",
       " ('A', 'C'),\n",
       " ('A', 'E'),\n",
       " ('N', 'C'),\n",
       " ('N', 'E'),\n",
       " ('C', 'E')]"
      ]
     },
     "execution_count": 39,
     "metadata": {},
     "output_type": "execute_result"
    }
   ],
   "source": [
    "list(combinations(str1,2))"
   ]
  },
  {
   "cell_type": "code",
   "execution_count": 35,
   "metadata": {},
   "outputs": [
    {
     "data": {
      "text/plain": [
       "22"
      ]
     },
     "execution_count": 35,
     "metadata": {},
     "output_type": "execute_result"
    }
   ],
   "source": [
    "len({''.join(x).lower() for x in list(combinations(list(str1),2))}.union({''.join(x).lower() for x in list(combinations(list(str2),2))}))"
   ]
  },
  {
   "cell_type": "code",
   "execution_count": 36,
   "metadata": {},
   "outputs": [
    {
     "data": {
      "text/plain": [
       "8"
      ]
     },
     "execution_count": 36,
     "metadata": {},
     "output_type": "execute_result"
    }
   ],
   "source": [
    "len({''.join(x).lower() for x in list(combinations(list(str1),2))}.intersection({''.join(x).lower() for x in list(combinations(list(str2),2))}))"
   ]
  },
  {
   "cell_type": "code",
   "execution_count": 38,
   "metadata": {},
   "outputs": [
    {
     "data": {
      "text/plain": [
       "23831.272727272728"
      ]
     },
     "execution_count": 38,
     "metadata": {},
     "output_type": "execute_result"
    }
   ],
   "source": [
    "8/22*65536"
   ]
  },
  {
   "cell_type": "code",
   "execution_count": 32,
   "metadata": {},
   "outputs": [
    {
     "data": {
      "text/plain": [
       "['fr',\n",
       " 'fa',\n",
       " 'fn',\n",
       " 'fc',\n",
       " 'fe',\n",
       " 'ra',\n",
       " 'rn',\n",
       " 'rc',\n",
       " 're',\n",
       " 'an',\n",
       " 'ac',\n",
       " 'ae',\n",
       " 'nc',\n",
       " 'ne',\n",
       " 'ce']"
      ]
     },
     "execution_count": 32,
     "metadata": {},
     "output_type": "execute_result"
    }
   ],
   "source": [
    "[''.join(x).lower() for x in list(combinations(list(str1),2))]"
   ]
  },
  {
   "cell_type": "code",
   "execution_count": 28,
   "metadata": {},
   "outputs": [
    {
     "data": {
      "text/plain": [
       "['fr',\n",
       " 'fe',\n",
       " 'fn',\n",
       " 'fc',\n",
       " 'fh',\n",
       " 're',\n",
       " 'rn',\n",
       " 'rc',\n",
       " 'rh',\n",
       " 'en',\n",
       " 'ec',\n",
       " 'eh',\n",
       " 'nc',\n",
       " 'nh',\n",
       " 'ch']"
      ]
     },
     "execution_count": 28,
     "metadata": {},
     "output_type": "execute_result"
    }
   ],
   "source": [
    "[''.join(x).lower() for x in list(combinations(list(str2),2))]"
   ]
  }
 ],
 "metadata": {
  "kernelspec": {
   "display_name": "Python 3",
   "language": "python",
   "name": "python3"
  },
  "language_info": {
   "codemirror_mode": {
    "name": "ipython",
    "version": 3
   },
   "file_extension": ".py",
   "mimetype": "text/x-python",
   "name": "python",
   "nbconvert_exporter": "python",
   "pygments_lexer": "ipython3",
   "version": "3.8.2"
  }
 },
 "nbformat": 4,
 "nbformat_minor": 4
}
