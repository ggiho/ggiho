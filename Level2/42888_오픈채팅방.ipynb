{
 "cells": [
  {
   "cell_type": "code",
   "execution_count": 60,
   "metadata": {},
   "outputs": [],
   "source": [
    "record = [\"Enter uid1234 Muzi\", \"Enter uid4567 Prodo\",\"Leave uid1234\",\"Enter uid1234 Prodo\",\"Change uid4567 Ryan\"]"
   ]
  },
  {
   "cell_type": "code",
   "execution_count": 64,
   "metadata": {},
   "outputs": [
    {
     "data": {
      "text/plain": [
       "['Enter',\n",
       " 'uid1234',\n",
       " 'Muzi',\n",
       " 'Enter',\n",
       " 'uid4567',\n",
       " 'Prodo',\n",
       " 'Leave',\n",
       " 'uid1234',\n",
       " 'Enter',\n",
       " 'uid1234',\n",
       " 'Prodo',\n",
       " 'Change',\n",
       " 'uid4567',\n",
       " 'Ryan']"
      ]
     },
     "execution_count": 64,
     "metadata": {},
     "output_type": "execute_result"
    }
   ],
   "source": [
    "' '.join(record).split()"
   ]
  },
  {
   "cell_type": "code",
   "execution_count": 65,
   "metadata": {},
   "outputs": [
    {
     "data": {
      "text/plain": [
       "[{'type': 'Enter', 'id': 'uid1234', 'name': 'Muzi'},\n",
       " {'type': 'Enter', 'id': 'uid4567', 'name': 'Prodo'},\n",
       " {'type': 'Leave', 'id': 'uid1234', 'name': ''},\n",
       " {'type': 'Enter', 'id': 'uid1234', 'name': 'Prodo'},\n",
       " {'type': 'Change', 'id': 'uid4567', 'name': 'Ryan'}]"
      ]
     },
     "execution_count": 65,
     "metadata": {},
     "output_type": "execute_result"
    }
   ],
   "source": [
    "customer = []\n",
    "name = []\n",
    "for i in record:\n",
    "    info = i.split()\n",
    "    info_dict = {}\n",
    "    try:\n",
    "        info_dict = {'type':info[0],'id':info[1],'name':info[2]}                \n",
    "    except:\n",
    "        info_dict = {'type':info[0],'id':info[1],'name':''}        \n",
    "    customer.append(info_dict)\n",
    "customer"
   ]
  },
  {
   "cell_type": "code",
   "execution_count": 67,
   "metadata": {},
   "outputs": [
    {
     "name": "stdout",
     "output_type": "stream",
     "text": [
      "Enter\n",
      "Enter\n",
      "Leave\n",
      "Enter\n",
      "Change\n"
     ]
    }
   ],
   "source": [
    "for x in customer:\n",
    "    print(x['type'])\n",
    "#     if x['type'] != 'Leave':\n",
    "#         name[x['id']] = x['name']"
   ]
  },
  {
   "cell_type": "code",
   "execution_count": null,
   "metadata": {},
   "outputs": [],
   "source": []
  },
  {
   "cell_type": "code",
   "execution_count": 36,
   "metadata": {},
   "outputs": [
    {
     "data": {
      "text/plain": [
       "'uid4567'"
      ]
     },
     "execution_count": 36,
     "metadata": {},
     "output_type": "execute_result"
    }
   ],
   "source": [
    "customer[-1]['id']"
   ]
  },
  {
   "cell_type": "code",
   "execution_count": 37,
   "metadata": {},
   "outputs": [
    {
     "data": {
      "text/plain": [
       "{'type': 'Enter', 'id': 'uid1234', 'name': 'Muzi'}"
      ]
     },
     "execution_count": 37,
     "metadata": {},
     "output_type": "execute_result"
    }
   ],
   "source": [
    "customer[0]"
   ]
  },
  {
   "cell_type": "code",
   "execution_count": 38,
   "metadata": {},
   "outputs": [],
   "source": [
    "customer = customer[0]\n",
    "name = {}\n",
    "name[customer['id']] = customer['name']"
   ]
  },
  {
   "cell_type": "code",
   "execution_count": 39,
   "metadata": {},
   "outputs": [
    {
     "data": {
      "text/plain": [
       "{'uid1234': 'Muzi'}"
      ]
     },
     "execution_count": 39,
     "metadata": {},
     "output_type": "execute_result"
    }
   ],
   "source": [
    "name"
   ]
  },
  {
   "cell_type": "code",
   "execution_count": 26,
   "metadata": {},
   "outputs": [
    {
     "name": "stdout",
     "output_type": "stream",
     "text": [
      "Muzi님이 들어왔습니다.\n",
      "Prodo님이 들어왔습니다.\n",
      "님이 떠났습니다.\n",
      "Prodo님이 들어왔습니다.\n"
     ]
    }
   ],
   "source": [
    "for x in customer:\n",
    "    if x['type'] == 'Enter':\n",
    "        print(x['name']+'님이 들어왔습니다.')\n",
    "    elif x['type'] == 'Leave':\n",
    "        print(x['name']+'님이 떠났습니다.')"
   ]
  }
 ],
 "metadata": {
  "kernelspec": {
   "display_name": "Python 3",
   "language": "python",
   "name": "python3"
  },
  "language_info": {
   "codemirror_mode": {
    "name": "ipython",
    "version": 3
   },
   "file_extension": ".py",
   "mimetype": "text/x-python",
   "name": "python",
   "nbconvert_exporter": "python",
   "pygments_lexer": "ipython3",
   "version": "3.8.2"
  }
 },
 "nbformat": 4,
 "nbformat_minor": 4
}
