{
 "cells": [
  {
   "cell_type": "code",
   "execution_count": 46,
   "metadata": {},
   "outputs": [],
   "source": [
    "# numbers= [3, 30, 34, 5, 9]\n",
    "numbers = [3,332,10,551,54,55]"
   ]
  },
  {
   "cell_type": "code",
   "execution_count": 47,
   "metadata": {},
   "outputs": [
    {
     "data": {
      "text/plain": [
       "['551', '55', '54', '332', '3', '10']"
      ]
     },
     "execution_count": 47,
     "metadata": {},
     "output_type": "execute_result"
    }
   ],
   "source": [
    "numbers = list(map(str,numbers))\n",
    "numbers.sort(reverse=True)\n",
    "numbers"
   ]
  },
  {
   "cell_type": "code",
   "execution_count": 48,
   "metadata": {},
   "outputs": [],
   "source": [
    "new_numbers = []"
   ]
  },
  {
   "cell_type": "code",
   "execution_count": 49,
   "metadata": {},
   "outputs": [],
   "source": [
    "for i in range(len(numbers)):\n",
    "    new_numbers.append(list(numbers[i]))"
   ]
  },
  {
   "cell_type": "code",
   "execution_count": 50,
   "metadata": {},
   "outputs": [
    {
     "data": {
      "text/plain": [
       "[['5', '5', '1'], ['5', '5'], ['5', '4'], ['3', '3', '2'], ['3'], ['1', '0']]"
      ]
     },
     "execution_count": 50,
     "metadata": {},
     "output_type": "execute_result"
    }
   ],
   "source": [
    "new_numbers"
   ]
  },
  {
   "cell_type": "code",
   "execution_count": 51,
   "metadata": {},
   "outputs": [],
   "source": [
    "result = []\n",
    "pop = ''"
   ]
  },
  {
   "cell_type": "code",
   "execution_count": 52,
   "metadata": {},
   "outputs": [
    {
     "name": "stdout",
     "output_type": "stream",
     "text": [
      "0 1 ['5', '5'] ['5', '5', '1']\n",
      "[['5', '5'], ['5', '5', '1'], ['5', '4'], ['3', '3', '2'], ['3'], ['1', '0']]\n",
      "0 2 ['5', '5'] ['5', '4']\n",
      "[['5', '5'], ['5', '5', '1'], ['5', '4'], ['3', '3', '2'], ['3'], ['1', '0']]\n",
      "0 3 ['5', '5'] ['3', '3', '2']\n",
      "[['5', '5'], ['5', '5', '1'], ['5', '4'], ['3', '3', '2'], ['3'], ['1', '0']]\n",
      "1 2 ['5', '4'] ['5', '5', '1']\n",
      "[['5', '5'], ['5', '4'], ['5', '5', '1'], ['3', '3', '2'], ['3'], ['1', '0']]\n",
      "1 3 ['5', '4'] ['3', '3', '2']\n",
      "[['5', '5'], ['5', '4'], ['5', '5', '1'], ['3', '3', '2'], ['3'], ['1', '0']]\n",
      "3 4 ['3'] ['3', '3', '2']\n",
      "[['5', '5'], ['5', '4'], ['5', '5', '1'], ['3'], ['3', '3', '2'], ['1', '0']]\n",
      "3 5 ['3'] ['1', '0']\n",
      "[['5', '5'], ['5', '4'], ['5', '5', '1'], ['3'], ['3', '3', '2'], ['1', '0']]\n"
     ]
    }
   ],
   "source": [
    "for i in range(len(new_numbers)-1):\n",
    "    j = i+1\n",
    "    while new_numbers[i][0] in new_numbers[j][0]:\n",
    "        if new_numbers[i][-1] < new_numbers[j][-1]:\n",
    "            new_numbers.insert(i,new_numbers.pop(j))\n",
    "            break\n",
    "        elif j<len(new_numbers)-1:\n",
    "            j+=1\n",
    "        else:\n",
    "            break\n",
    "        print(i,j,new_numbers[i],new_numbers[j])\n",
    "        print(new_numbers)"
   ]
  },
  {
   "cell_type": "code",
   "execution_count": 53,
   "metadata": {},
   "outputs": [
    {
     "data": {
      "text/plain": [
       "[['5', '5'], ['5', '4'], ['5', '5', '1'], ['3'], ['3', '3', '2'], ['1', '0']]"
      ]
     },
     "execution_count": 53,
     "metadata": {},
     "output_type": "execute_result"
    }
   ],
   "source": [
    "new_numbers"
   ]
  },
  {
   "cell_type": "code",
   "execution_count": null,
   "metadata": {},
   "outputs": [],
   "source": []
  }
 ],
 "metadata": {
  "kernelspec": {
   "display_name": "Python 3",
   "language": "python",
   "name": "python3"
  },
  "language_info": {
   "codemirror_mode": {
    "name": "ipython",
    "version": 3
   },
   "file_extension": ".py",
   "mimetype": "text/x-python",
   "name": "python",
   "nbconvert_exporter": "python",
   "pygments_lexer": "ipython3",
   "version": "3.8.2"
  }
 },
 "nbformat": 4,
 "nbformat_minor": 4
}
