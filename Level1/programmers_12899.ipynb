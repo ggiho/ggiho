{
 "cells": [
  {
   "cell_type": "code",
   "execution_count": 325,
   "metadata": {},
   "outputs": [],
   "source": [
    "def solution(n):\n",
    "    tmp = '124'\n",
    "    q, r = divmod(n,len(tmp))  \n",
    "    if q == 0 or (q==1 and r==0):\n",
    "        return tmp[r-1]\n",
    "    elif q != 0 and r==0:\n",
    "        return solution(q-1) + tmp[r-1]\n",
    "    else :\n",
    "        return solution(q) + tmp[r-1]"
   ]
  },
  {
   "cell_type": "code",
   "execution_count": 329,
   "metadata": {},
   "outputs": [
    {
     "data": {
      "text/plain": [
       "'11'"
      ]
     },
     "execution_count": 329,
     "metadata": {},
     "output_type": "execute_result"
    }
   ],
   "source": [
    "convert(4)"
   ]
  },
  {
   "cell_type": "code",
   "execution_count": null,
   "metadata": {},
   "outputs": [],
   "source": [
    "1 -> 1\n",
    "2 -> 2\n",
    "3 -> 4\n",
    "4 -> 11\n",
    "5 -> 12\n",
    "6 -> 14\n",
    "7 -> 21\n",
    "8 -> 22\n",
    "9 -> 24\n",
    "10 -> 41\n",
    "11 -> 42\n",
    "12 -> 44\n",
    "13 -> 111"
   ]
  }
 ],
 "metadata": {
  "kernelspec": {
   "display_name": "Python 3",
   "language": "python",
   "name": "python3"
  },
  "language_info": {
   "codemirror_mode": {
    "name": "ipython",
    "version": 3
   },
   "file_extension": ".py",
   "mimetype": "text/x-python",
   "name": "python",
   "nbconvert_exporter": "python",
   "pygments_lexer": "ipython3",
   "version": "3.8.2"
  }
 },
 "nbformat": 4,
 "nbformat_minor": 4
}
