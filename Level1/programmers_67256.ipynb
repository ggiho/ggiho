{
 "cells": [
  {
   "cell_type": "code",
   "execution_count": 1,
   "metadata": {},
   "outputs": [],
   "source": [
    "numbers = [1, 3, 4, 5, 8, 2, 1, 4, 5, 9, 5]\n",
    "hand = \"right\""
   ]
  },
  {
   "cell_type": "code",
   "execution_count": 12,
   "metadata": {},
   "outputs": [],
   "source": [
    "numbers_dict = {1:[0,0], 2:[0,1], 3:[0,2],\n",
    "                4:[1,0], 5:[1,1], 6:[1,2],\n",
    "                7:[2,0], 8:[2,1], 9:[2,2],\n",
    "                'left':[3,0], 0:[3,1], 'right':[3,2]}"
   ]
  },
  {
   "cell_type": "code",
   "execution_count": 11,
   "metadata": {},
   "outputs": [
    {
     "name": "stdout",
     "output_type": "stream",
     "text": [
      "L 1\n",
      "R 3\n",
      "L 4\n",
      "5 left 1 2\n",
      "8 left 4 5\n",
      "2 right -2 -1\n",
      "L 1\n",
      "L 4\n",
      "5 left 1 2\n",
      "R 9\n",
      "5 right 1 -4\n"
     ]
    }
   ],
   "source": [
    "left,right = 0,0\n",
    "for number in numbers:\n",
    "    if number in [1,4,7]:\n",
    "        print('L',number)\n",
    "        left = number\n",
    "    elif number in [3,6,9]:\n",
    "        print('R',number)\n",
    "        right = number\n",
    "    else:\n",
    "        print(number,'left' if abs(number - left) < (number-right) else 'right',number-left,number-right)"
   ]
  },
  {
   "cell_type": "code",
   "execution_count": 42,
   "metadata": {},
   "outputs": [
    {
     "name": "stdout",
     "output_type": "stream",
     "text": [
      "L 1\n",
      "left: [0, 0]\n",
      "------\n",
      "R 3\n",
      "right: [0, 2]\n",
      "------\n",
      "L 4\n",
      "left: [1, 0]\n",
      "------\n",
      "L 5\n",
      "left: [1, 1]\n",
      "------\n",
      "L 8\n",
      "left: [2, 1]\n",
      "------\n",
      "R 2\n",
      "right: [0, 1]\n",
      "------\n",
      "L 1\n",
      "left: [0, 0]\n",
      "------\n",
      "L 4\n",
      "left: [1, 0]\n",
      "------\n",
      "R 5\n",
      "------\n",
      "R 9\n",
      "right: [2, 2]\n",
      "------\n",
      "L 5\n",
      "left: [1, 1]\n",
      "------\n"
     ]
    }
   ],
   "source": [
    "left,right = numbers_dict['left'],numbers_dict['right']\n",
    "answer = ''\n",
    "for number in numbers:\n",
    "    if number in [1,4,7]:\n",
    "        answer += 'L'\n",
    "        print('L',number)\n",
    "        left = numbers_dict[number]\n",
    "        print('left:',left)\n",
    "        print('------')\n",
    "    elif number in [3,6,9]:\n",
    "        answer += 'R'\n",
    "        print('R',number)\n",
    "        right = numbers_dict[number]\n",
    "        print('right:',right)\n",
    "        print('------')\n",
    "    else:\n",
    "#         print(abs(numbers_dict[number][0] - left[0]))\n",
    "        if abs(numbers_dict[number][0] - left[0]) + abs(numbers_dict[number][1] - left[1]) > abs(numbers_dict[number][0] - right[0]) + abs(numbers_dict[number][1] - right[1]):\n",
    "            right = numbers_dict[number]\n",
    "            answer += 'R'\n",
    "            print('R',number)\n",
    "            print('right:',right)\n",
    "            print('------')\n",
    "        elif abs(numbers_dict[number][0] - left[0]) + abs(numbers_dict[number][1] - left[1]) == abs(numbers_dict[number][0] - right[0]) + abs(numbers_dict[number][1] - right[1]):\n",
    "            if hand == 'right':\n",
    "                answer += 'R'\n",
    "                right = numbers_dict[number]\n",
    "            else:\n",
    "                answer += 'L'\n",
    "                left = numbers_dict[number]\n",
    "#             print(right = numbers_dict[number] if hand == 'right' else left = numbers_dict[number],number)\n",
    "            print('R' if hand == 'right' else 'L', number)\n",
    "            print('------')            \n",
    "        else:\n",
    "            answer += 'L'\n",
    "            left = numbers_dict[number]\n",
    "            print('L',number)\n",
    "            print('left:',left)\n",
    "            print('------')"
   ]
  },
  {
   "cell_type": "code",
   "execution_count": null,
   "metadata": {},
   "outputs": [],
   "source": [
    "def solution(numbers, hand):\n",
    "    numbers_dict = {1:[0,0], 2:[0,1], 3:[0,2],\n",
    "                4:[1,0], 5:[1,1], 6:[1,2],\n",
    "                7:[2,0], 8:[2,1], 9:[2,2],\n",
    "                'left':[3,0], 0:[3,1], 'right':[3,2]}\n",
    "    left,right = numbers_dict['left'],numbers_dict['right']\n",
    "    answer = ''\n",
    "    for number in numbers:\n",
    "        if number in [1,4,7]:\n",
    "            answer += 'L'\n",
    "            print('L',number)\n",
    "            left = numbers_dict[number]\n",
    "            print('left:',left)\n",
    "            print('------')\n",
    "        elif number in [3,6,9]:\n",
    "            answer += 'R'\n",
    "            print('R',number)\n",
    "            right = numbers_dict[number]\n",
    "            print('right:',right)\n",
    "            print('------')\n",
    "        else:\n",
    "    #         print(abs(numbers_dict[number][0] - left[0]))\n",
    "            if abs(numbers_dict[number][0] - left[0]) + abs(numbers_dict[number][1] - left[1]) > abs(numbers_dict[number][0] - right[0]) + abs(numbers_dict[number][1] - right[1]):\n",
    "                right = numbers_dict[number]\n",
    "                answer += 'R'\n",
    "                print('R',number)\n",
    "                print('right:',right)\n",
    "                print('------')\n",
    "            elif abs(numbers_dict[number][0] - left[0]) + abs(numbers_dict[number][1] - left[1]) == abs(numbers_dict[number][0] - right[0]) + abs(numbers_dict[number][1] - right[1]):\n",
    "                if hand == 'right':\n",
    "                    answer += 'R'\n",
    "                    right = numbers_dict[number]\n",
    "                else:\n",
    "                    answer += 'L'\n",
    "                    left = numbers_dict[number]\n",
    "                print('R' if hand == 'right' else 'L', number)\n",
    "                print('------')            \n",
    "            else:\n",
    "                answer += 'L'\n",
    "                left = numbers_dict[number]\n",
    "                print('L',number)\n",
    "                print('left:',left)\n",
    "                print('------')\n",
    "    return answer"
   ]
  }
 ],
 "metadata": {
  "kernelspec": {
   "display_name": "Python 3",
   "language": "python",
   "name": "python3"
  },
  "language_info": {
   "codemirror_mode": {
    "name": "ipython",
    "version": 3
   },
   "file_extension": ".py",
   "mimetype": "text/x-python",
   "name": "python",
   "nbconvert_exporter": "python",
   "pygments_lexer": "ipython3",
   "version": "3.8.2"
  }
 },
 "nbformat": 4,
 "nbformat_minor": 4
}
