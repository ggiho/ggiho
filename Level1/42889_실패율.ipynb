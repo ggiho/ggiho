{
 "cells": [
  {
   "cell_type": "code",
   "execution_count": 113,
   "metadata": {},
   "outputs": [],
   "source": [
    "N = 8\n",
    "stages = [1,2,3,4,5,6,7]"
   ]
  },
  {
   "cell_type": "code",
   "execution_count": 112,
   "metadata": {},
   "outputs": [
    {
     "name": "stdout",
     "output_type": "stream",
     "text": [
      "count: 1\n",
      "len 7\n",
      "[1, 2, 3, 4, 5, 6, 7]\n",
      "0.14285714285714285\n",
      "count: 1\n",
      "len 6\n",
      "[2, 3, 4, 5, 6, 7]\n",
      "0.16666666666666666\n",
      "count: 1\n",
      "len 5\n",
      "[3, 4, 5, 6, 7]\n",
      "0.2\n",
      "count: 1\n",
      "len 4\n",
      "[4, 5, 6, 7]\n",
      "0.25\n",
      "count: 1\n",
      "len 3\n",
      "[5, 6, 7]\n",
      "0.3333333333333333\n",
      "count: 1\n",
      "len 2\n",
      "[6, 7]\n",
      "0.5\n",
      "count: 1\n",
      "len 1\n",
      "[7]\n",
      "1.0\n"
     ]
    },
    {
     "data": {
      "text/plain": [
       "[7, 6, 5, 4, 3, 2, 1, 8]"
      ]
     },
     "execution_count": 112,
     "metadata": {},
     "output_type": "execute_result"
    }
   ],
   "source": [
    "fr = []\n",
    "for x in range(1,N+1):\n",
    "    if len(stages)==0:\n",
    "        fr+=[0]*(N-len(fr))\n",
    "        break\n",
    "    print('count:',stages.count(x))\n",
    "    print('len',len(stages))\n",
    "    print(stages)\n",
    "    print(stages.count(x) / len(stages))\n",
    "    fr.append(stages.count(x) / len(stages))\n",
    "    stages = list(filter(lambda k:k!=x,stages))\n",
    "result = [(i+1,v) for i,v in enumerate(fr)]\n",
    "[n[0] for n in sorted(result,key=lambda x:(x[1]),reverse=True)]    "
   ]
  },
  {
   "cell_type": "code",
   "execution_count": 71,
   "metadata": {},
   "outputs": [
    {
     "data": {
      "text/plain": [
       "[0.125, 0.42857142857142855, 0.5, 0.5, 0.0]"
      ]
     },
     "execution_count": 71,
     "metadata": {},
     "output_type": "execute_result"
    }
   ],
   "source": [
    "fr"
   ]
  },
  {
   "cell_type": "code",
   "execution_count": 117,
   "metadata": {},
   "outputs": [
    {
     "data": {
      "text/plain": [
       "[7, 6, 5, 4, 3, 2, 1, 8]"
      ]
     },
     "execution_count": 117,
     "metadata": {},
     "output_type": "execute_result"
    }
   ],
   "source": [
    "result = [(i+1,v) for i,v in enumerate(fr)]\n",
    "[n[0] for n in sorted(result,key=lambda x:(x[1]),reverse=True)]"
   ]
  }
 ],
 "metadata": {
  "kernelspec": {
   "display_name": "Python 3",
   "language": "python",
   "name": "python3"
  },
  "language_info": {
   "codemirror_mode": {
    "name": "ipython",
    "version": 3
   },
   "file_extension": ".py",
   "mimetype": "text/x-python",
   "name": "python",
   "nbconvert_exporter": "python",
   "pygments_lexer": "ipython3",
   "version": "3.8.2"
  }
 },
 "nbformat": 4,
 "nbformat_minor": 4
}
