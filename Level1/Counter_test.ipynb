{
 "cells": [
  {
   "cell_type": "code",
   "execution_count": 61,
   "metadata": {},
   "outputs": [],
   "source": [
    "counter = dict()"
   ]
  },
  {
   "cell_type": "code",
   "execution_count": 7,
   "metadata": {},
   "outputs": [],
   "source": [
    "sentence = \"I'm a boy, you're a girl\""
   ]
  },
  {
   "cell_type": "code",
   "execution_count": 63,
   "metadata": {},
   "outputs": [],
   "source": [
    "import collections"
   ]
  },
  {
   "cell_type": "code",
   "execution_count": 66,
   "metadata": {},
   "outputs": [
    {
     "data": {
      "text/plain": [
       "Counter({'i': 2,\n",
       "         \"'\": 2,\n",
       "         'm': 1,\n",
       "         ' ': 5,\n",
       "         'a': 2,\n",
       "         'b': 1,\n",
       "         'o': 2,\n",
       "         'y': 2,\n",
       "         ',': 1,\n",
       "         'u': 1,\n",
       "         'r': 2,\n",
       "         'e': 1,\n",
       "         'g': 1,\n",
       "         'l': 1})"
      ]
     },
     "execution_count": 66,
     "metadata": {},
     "output_type": "execute_result"
    }
   ],
   "source": [
    "\n",
    "collections.Counter(sentence.lower())"
   ]
  },
  {
   "cell_type": "code",
   "execution_count": 15,
   "metadata": {},
   "outputs": [],
   "source": [
    "for c in sentence:\n",
    "    if c.isalpha():\n",
    "        c.lower()\n",
    "        counter[c] = counter.get(c,0)+1  \n",
    "    else:\n",
    "        counter[c] = counter.get(c,0)+1"
   ]
  },
  {
   "cell_type": "code",
   "execution_count": 16,
   "metadata": {},
   "outputs": [
    {
     "data": {
      "text/plain": [
       "{'I': 1,\n",
       " \"'\": 2,\n",
       " 'm': 1,\n",
       " ' ': 5,\n",
       " 'a': 2,\n",
       " 'b': 1,\n",
       " 'o': 2,\n",
       " 'y': 2,\n",
       " ',': 1,\n",
       " 'u': 1,\n",
       " 'r': 2,\n",
       " 'e': 1,\n",
       " 'g': 1,\n",
       " 'i': 1,\n",
       " 'l': 1}"
      ]
     },
     "execution_count": 16,
     "metadata": {},
     "output_type": "execute_result"
    }
   ],
   "source": [
    "counter"
   ]
  },
  {
   "cell_type": "code",
   "execution_count": 31,
   "metadata": {},
   "outputs": [],
   "source": [
    "_end= \"_end_\""
   ]
  },
  {
   "cell_type": "code",
   "execution_count": 37,
   "metadata": {},
   "outputs": [],
   "source": [
    "def make_trie(*words):\n",
    "    root = dict()\n",
    "    for word in words:\n",
    "        current_dict = root\n",
    "        for letter in word:\n",
    "            current_dict = current_dict.setdefault(letter, {})\n",
    "        current_dict[_end] = _end\n",
    "    return root"
   ]
  },
  {
   "cell_type": "code",
   "execution_count": 39,
   "metadata": {},
   "outputs": [
    {
     "data": {
      "text/plain": [
       "{119: {97674223: {1195524421: {'_end_': '_end_'}}}}"
      ]
     },
     "execution_count": 39,
     "metadata": {},
     "output_type": "execute_result"
    }
   ],
   "source": [
    "make_trie([119, 97674223, 1195524421])"
   ]
  },
  {
   "cell_type": "code",
   "execution_count": 46,
   "metadata": {},
   "outputs": [],
   "source": [
    "t = [1195524421]"
   ]
  },
  {
   "cell_type": "code",
   "execution_count": 57,
   "metadata": {},
   "outputs": [],
   "source": [
    "t[0] = list(str(t[0]))"
   ]
  },
  {
   "cell_type": "code",
   "execution_count": 58,
   "metadata": {},
   "outputs": [
    {
     "data": {
      "text/plain": [
       "[['1', '1', '9', '5', '5', '2', '4', '4', '2', '1']]"
      ]
     },
     "execution_count": 58,
     "metadata": {},
     "output_type": "execute_result"
    }
   ],
   "source": [
    "list(t)"
   ]
  },
  {
   "cell_type": "code",
   "execution_count": 62,
   "metadata": {},
   "outputs": [
    {
     "data": {
      "text/plain": [
       "{'1': 3, '9': 1, '5': 2, '2': 2, '4': 2}"
      ]
     },
     "execution_count": 62,
     "metadata": {},
     "output_type": "execute_result"
    }
   ],
   "source": [
    "for c in t[0]:\n",
    "    counter[c] = counter.get(c,0)+1\n",
    "counter"
   ]
  }
 ],
 "metadata": {
  "kernelspec": {
   "display_name": "Python 3.8.2 32-bit",
   "language": "python",
   "name": "python38232bitfdfa204b190845e2b870e8358315c7ec"
  },
  "language_info": {
   "codemirror_mode": {
    "name": "ipython",
    "version": 3
   },
   "file_extension": ".py",
   "mimetype": "text/x-python",
   "name": "python",
   "nbconvert_exporter": "python",
   "pygments_lexer": "ipython3",
   "version": "3.8.2"
  }
 },
 "nbformat": 4,
 "nbformat_minor": 4
}
