{
 "cells": [
  {
   "cell_type": "code",
   "execution_count": 72,
   "metadata": {},
   "outputs": [],
   "source": [
    "board = [[0,0,0,0,0],\n",
    "         [0,0,1,0,3],\n",
    "         [0,2,5,0,1],\n",
    "         [4,2,4,4,2],\n",
    "         [3,5,1,3,1]]\n",
    "moves = [1,5,3,5,1,2,1,4]"
   ]
  },
  {
   "cell_type": "code",
   "execution_count": 73,
   "metadata": {},
   "outputs": [],
   "source": [
    "stack = []"
   ]
  },
  {
   "cell_type": "code",
   "execution_count": 74,
   "metadata": {},
   "outputs": [
    {
     "name": "stdout",
     "output_type": "stream",
     "text": [
      "i: 3 move: 1\n",
      "list index out of range\n",
      "[4]\n",
      "i: 1 move: 5\n",
      "[4, 3]\n",
      "i: 1 move: 3\n",
      "[4, 3, 1]\n",
      "i: 2 move: 5\n",
      "[4, 3]\n",
      "i: 4 move: 1\n",
      "[4]\n",
      "i: 2 move: 2\n",
      "[4, 2]\n",
      "i: 3 move: 4\n",
      "[4, 2, 4]\n"
     ]
    }
   ],
   "source": [
    "answer = 0\n",
    "for move in moves:\n",
    "    for i in range(len(board)):\n",
    "        if board[i][move-1] != 0:\n",
    "            print('i:',i,'move:',move)            \n",
    "            stack.append(board[i][move-1])\n",
    "            try:\n",
    "                if stack[-1] == stack[-2]:\n",
    "                    stack.pop()\n",
    "                    stack.pop()\n",
    "                    answer += 2\n",
    "            except Exception as e:\n",
    "                print(e)            \n",
    "            board[i][move-1] = 0\n",
    "            print(stack)\n",
    "            break"
   ]
  },
  {
   "cell_type": "code",
   "execution_count": 75,
   "metadata": {},
   "outputs": [
    {
     "data": {
      "text/plain": [
       "[4, 2, 4]"
      ]
     },
     "execution_count": 75,
     "metadata": {},
     "output_type": "execute_result"
    }
   ],
   "source": [
    "stack"
   ]
  },
  {
   "cell_type": "code",
   "execution_count": 76,
   "metadata": {},
   "outputs": [
    {
     "data": {
      "text/plain": [
       "4"
      ]
     },
     "execution_count": 76,
     "metadata": {},
     "output_type": "execute_result"
    }
   ],
   "source": [
    "answer"
   ]
  }
 ],
 "metadata": {
  "kernelspec": {
   "display_name": "Python 3",
   "language": "python",
   "name": "python3"
  },
  "language_info": {
   "codemirror_mode": {
    "name": "ipython",
    "version": 3
   },
   "file_extension": ".py",
   "mimetype": "text/x-python",
   "name": "python",
   "nbconvert_exporter": "python",
   "pygments_lexer": "ipython3",
   "version": "3.8.2"
  }
 },
 "nbformat": 4,
 "nbformat_minor": 4
}
