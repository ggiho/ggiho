{
 "cells": [
  {
   "cell_type": "code",
   "execution_count": 305,
   "metadata": {},
   "outputs": [],
   "source": [
    "# numbers= [3, 30, 34, 5, 9]\n",
    "numbers = [3,332,10,551,54,55]"
   ]
  },
  {
   "cell_type": "code",
   "execution_count": 306,
   "metadata": {},
   "outputs": [
    {
     "data": {
      "text/plain": [
       "['551', '55', '54', '332', '3', '10']"
      ]
     },
     "execution_count": 306,
     "metadata": {},
     "output_type": "execute_result"
    }
   ],
   "source": [
    "numbers = list(map(str,numbers))\n",
    "numbers.sort(reverse=True)\n",
    "numbers"
   ]
  },
  {
   "cell_type": "code",
   "execution_count": 307,
   "metadata": {},
   "outputs": [],
   "source": [
    "new_numbers = []"
   ]
  },
  {
   "cell_type": "code",
   "execution_count": 308,
   "metadata": {},
   "outputs": [],
   "source": [
    "for i in range(len(numbers)):\n",
    "    new_numbers.append(list(numbers[i]))"
   ]
  },
  {
   "cell_type": "code",
   "execution_count": 309,
   "metadata": {},
   "outputs": [
    {
     "data": {
      "text/plain": [
       "[['5', '5', '1'], ['5', '5'], ['5', '4'], ['3', '3', '2'], ['3'], ['1', '0']]"
      ]
     },
     "execution_count": 309,
     "metadata": {},
     "output_type": "execute_result"
    }
   ],
   "source": [
    "new_numbers"
   ]
  },
  {
   "cell_type": "code",
   "execution_count": 310,
   "metadata": {},
   "outputs": [],
   "source": [
    "result = ''\n",
    "check_change = 0.1"
   ]
  },
  {
   "cell_type": "code",
   "execution_count": 311,
   "metadata": {},
   "outputs": [
    {
     "name": "stdout",
     "output_type": "stream",
     "text": [
      "0 1 ['5', '5', '1'] ['5', '5']\n",
      "0 1 ['5', '5'] ['5', '5', '1']\n",
      "[['5', '5'], ['5', '5', '1'], ['5', '4'], ['3', '3', '2'], ['3'], ['1', '0']]\n",
      "------------\n",
      "1 2 ['5', '5', '1'] ['5', '4']\n",
      "1 2 ['5', '4'] ['5', '5', '1']\n",
      "[['5', '5'], ['5', '4'], ['5', '5', '1'], ['3', '3', '2'], ['3'], ['1', '0']]\n",
      "------------\n",
      "3 4 ['3', '3', '2'] ['3']\n",
      "3 4 ['3'] ['3', '3', '2']\n",
      "[['5', '5'], ['5', '4'], ['5', '5', '1'], ['3'], ['3', '3', '2'], ['1', '0']]\n",
      "------------\n"
     ]
    }
   ],
   "source": [
    "for i in range(len(new_numbers)-1):\n",
    "    j = i+1\n",
    "    while new_numbers[i][0] in new_numbers[j][0]:\n",
    "        if new_numbers[i][-1] < new_numbers[j][-1]:\n",
    "            print(i,j,new_numbers[i],new_numbers[j])\n",
    "            new_numbers.insert(i,new_numbers.pop(j))\n",
    "            print(i,j,new_numbers[i],new_numbers[j])\n",
    "            print(new_numbers)\n",
    "            print('------------')\n",
    "            check_change = new_numbers[i][0]\n",
    "        elif j<len(new_numbers)-1:\n",
    "            j+=1\n",
    "        else:\n",
    "            break            "
   ]
  },
  {
   "cell_type": "code",
   "execution_count": 330,
   "metadata": {},
   "outputs": [
    {
     "data": {
      "text/plain": [
       "[['5', '5'], ['5', '4'], ['5', '5', '1'], ['3'], ['3', '3', '2'], ['1', '0']]"
      ]
     },
     "execution_count": 330,
     "metadata": {},
     "output_type": "execute_result"
    }
   ],
   "source": [
    "new_numbers"
   ]
  },
  {
   "cell_type": "code",
   "execution_count": 331,
   "metadata": {},
   "outputs": [
    {
     "data": {
      "text/plain": [
       "'555455133321055545513332105554551333210'"
      ]
     },
     "execution_count": 331,
     "metadata": {},
     "output_type": "execute_result"
    }
   ],
   "source": [
    "for i in range(len(new_numbers)):\n",
    "    for j in range(len(new_numbers[i])):\n",
    "        result += new_numbers[i][j]            \n",
    "result"
   ]
  },
  {
   "cell_type": "code",
   "execution_count": 319,
   "metadata": {},
   "outputs": [],
   "source": [
    "flat_one = [n for row in new_numbers for n in row]"
   ]
  },
  {
   "cell_type": "code",
   "execution_count": 327,
   "metadata": {},
   "outputs": [],
   "source": [
    "from functools import reduce"
   ]
  },
  {
   "cell_type": "code",
   "execution_count": 333,
   "metadata": {},
   "outputs": [],
   "source": []
  },
  {
   "cell_type": "code",
   "execution_count": 336,
   "metadata": {},
   "outputs": [],
   "source": [
    "from functools import reduce\n",
    "def solution(numbers):\n",
    "    numbers = list(map(str,numbers))\n",
    "    numbers.sort(reverse=True)\n",
    "    new_numbers = []\n",
    "    for i in range(len(numbers)): new_numbers.append(list(numbers[i]))\n",
    "    answer = ''\n",
    "    check_change = 0.1\n",
    "    for i in range(len(new_numbers)-1):\n",
    "        j = i+1\n",
    "        while new_numbers[i][0] in new_numbers[j][0]:\n",
    "            if new_numbers[i][-1] < new_numbers[j][-1]:\n",
    "                new_numbers.insert(i,new_numbers.pop(j))\n",
    "                check_change = new_numbers[i][0]\n",
    "            elif j<len(new_numbers)-1:\n",
    "                j+=1\n",
    "            else:\n",
    "                break        \n",
    "    answer = reduce(lambda x,y:x+y,[n for row in new_numbers for n in row])\n",
    "    return answer"
   ]
  },
  {
   "cell_type": "code",
   "execution_count": 337,
   "metadata": {},
   "outputs": [
    {
     "data": {
      "text/plain": [
       "'990890898988101110'"
      ]
     },
     "execution_count": 337,
     "metadata": {},
     "output_type": "execute_result"
    }
   ],
   "source": [
    "solution([90,908,89,898,10,101,1,8,9])"
   ]
  }
 ],
 "metadata": {
  "kernelspec": {
   "display_name": "Python 3",
   "language": "python",
   "name": "python3"
  },
  "language_info": {
   "codemirror_mode": {
    "name": "ipython",
    "version": 3
   },
   "file_extension": ".py",
   "mimetype": "text/x-python",
   "name": "python",
   "nbconvert_exporter": "python",
   "pygments_lexer": "ipython3",
   "version": "3.8.2"
  }
 },
 "nbformat": 4,
 "nbformat_minor": 4
}
