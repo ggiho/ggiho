{
 "cells": [
  {
   "cell_type": "code",
   "execution_count": 122,
   "metadata": {},
   "outputs": [],
   "source": [
    "n = 5\n",
    "lost = [1,4,5,6]\n",
    "reserve = [1, 2, 3 , 7]"
   ]
  },
  {
   "cell_type": "code",
   "execution_count": 95,
   "metadata": {},
   "outputs": [
    {
     "data": {
      "text/plain": [
       "[1, 3, 5]"
      ]
     },
     "execution_count": 95,
     "metadata": {},
     "output_type": "execute_result"
    }
   ],
   "source": [
    "list(filter(lambda x: x is not reserve,lost))"
   ]
  },
  {
   "cell_type": "code",
   "execution_count": null,
   "metadata": {},
   "outputs": [],
   "source": [
    "def solution(n, lost, reserve):\n",
    "    lost, reserve = set(lost), set(reserve)\n",
    "    set_lost, set_reserve = lost - reserve, reserve - lost\n",
    "    reserve_m1 = set(map(lambda x:x-1,list(set_reserve)))\n",
    "    lost_m1 = set(map(lambda x:x-1,list(set_lost)))\n",
    "    reserve = set_reserve - lost_m1\n",
    "    lost = set(map(lambda x:x+2,list(lost_m1 - set_reserve)))\n",
    "    return n-len(list(lost-reserve))\n"
   ]
  },
  {
   "cell_type": "code",
   "execution_count": 181,
   "metadata": {},
   "outputs": [],
   "source": [
    "def solution(n, lost, reserve):\n",
    "    lost, reserve = set(lost), set(reserve)\n",
    "    set_lost, set_reserve = lost - reserve, reserve - lost\n",
    "    reserve_m1 = set(map(lambda x:x-1,list(set_reserve)))    \n",
    "    lost = set_lost-reserve_m1\n",
    "    reserve = set(map(lambda x:x+2,list(reserve_m1 - set_lost)))\n",
    "    return n-len(list(lost-reserve))"
   ]
  },
  {
   "cell_type": "code",
   "execution_count": 182,
   "metadata": {},
   "outputs": [
    {
     "data": {
      "text/plain": [
       "4"
      ]
     },
     "execution_count": 182,
     "metadata": {},
     "output_type": "execute_result"
    }
   ],
   "source": [
    "solution(5,[3,5],[2,4])"
   ]
  },
  {
   "cell_type": "code",
   "execution_count": 179,
   "metadata": {},
   "outputs": [],
   "source": [
    "def solution(n, lost, reserve):\n",
    "    lost, reserve = set(lost), set(reserve)\n",
    "    set_lost, set_reserve = lost - reserve, reserve - lost\n",
    "    lost_m1 = set(map(lambda x:x-1,list(set_lost)))\n",
    "    reserve = set_reserve - lost_m1\n",
    "    lost = set(map(lambda x:x+2,list(lost_m1 - set_reserve)))\n",
    "    return n-len(list(lost-reserve))"
   ]
  },
  {
   "cell_type": "code",
   "execution_count": 180,
   "metadata": {},
   "outputs": [
    {
     "data": {
      "text/plain": [
       "4"
      ]
     },
     "execution_count": 180,
     "metadata": {},
     "output_type": "execute_result"
    }
   ],
   "source": [
    "solution(5,[2,4],[3,5])"
   ]
  },
  {
   "cell_type": "code",
   "execution_count": 168,
   "metadata": {},
   "outputs": [
    {
     "data": {
      "text/plain": [
       "9"
      ]
     },
     "execution_count": 168,
     "metadata": {},
     "output_type": "execute_result"
    }
   ],
   "source": [
    "solution(9,[2,4,7,8], [3,5,6,9])"
   ]
  },
  {
   "cell_type": "code",
   "execution_count": 58,
   "metadata": {},
   "outputs": [
    {
     "data": {
      "text/plain": [
       "-3"
      ]
     },
     "execution_count": 58,
     "metadata": {},
     "output_type": "execute_result"
    }
   ],
   "source": [
    "i = 0\n",
    "while lost:\n",
    "    j = 0\n",
    "    while reserve:            \n",
    "        if reserve[j] in lost:\n",
    "            n-=1\n",
    "            break\n",
    "        elif abs(lost[i]-reserve[j])<=1 and reserve[j] not in lost:\n",
    "#             lost.remove(lost[i])\n",
    "            reserve.remove(reserve[j])\n",
    "            n+=1\n",
    "            break\n",
    "#         elif reserve[j] in lost:\n",
    "#             n+=1\n",
    "        j+=1\n",
    "        if len(reserve) <= j:\n",
    "            break\n",
    "#         if len(reserve) == 0:\n",
    "#             break\n",
    "    i+=1\n",
    "    if len(lost) <= i:\n",
    "        break\n",
    "n-len(lost)    "
   ]
  }
 ],
 "metadata": {
  "kernelspec": {
   "display_name": "Python 3",
   "language": "python",
   "name": "python3"
  },
  "language_info": {
   "codemirror_mode": {
    "name": "ipython",
    "version": 3
   },
   "file_extension": ".py",
   "mimetype": "text/x-python",
   "name": "python",
   "nbconvert_exporter": "python",
   "pygments_lexer": "ipython3",
   "version": "3.8.2"
  }
 },
 "nbformat": 4,
 "nbformat_minor": 4
}
