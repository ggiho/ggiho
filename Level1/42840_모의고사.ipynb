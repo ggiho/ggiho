{
 "cells": [
  {
   "cell_type": "code",
   "execution_count": 77,
   "metadata": {},
   "outputs": [],
   "source": [
    "answers = [1, 3, 3, 4, 5]\n",
    "s1 = [1,2,3,4,5]\n",
    "s2 = [2,1,2,3,2,4,2,5]\n",
    "s3 = [3,3,1,1,2,2,4,4,5,5]"
   ]
  },
  {
   "cell_type": "code",
   "execution_count": 78,
   "metadata": {},
   "outputs": [],
   "source": [
    "def answer_cnt(std):        \n",
    "    q,r = divmod(len(answers),len(std))\n",
    "    if q > 0:\n",
    "        std = std*q+std[:r]\n",
    "    return list(map(lambda x,y:x==y,answers,std)).count(True)"
   ]
  },
  {
   "cell_type": "code",
   "execution_count": 80,
   "metadata": {},
   "outputs": [
    {
     "data": {
      "text/plain": [
       "[1, 2, 3]"
      ]
     },
     "execution_count": 80,
     "metadata": {},
     "output_type": "execute_result"
    }
   ],
   "source": [
    "[1] if max_cnt is answer_cnt(s1) else [2] if max_cnt is answer_cnt(s2) else [3] if max_cnt is answer_cnt(s3) else [1,2,3]"
   ]
  },
  {
   "cell_type": "code",
   "execution_count": 93,
   "metadata": {},
   "outputs": [],
   "source": [
    "def solution(answers):\n",
    "    s1 = [1,2,3,4,5]\n",
    "    s2 = [2,1,2,3,2,4,2,5]\n",
    "    s3 = [3,3,1,1,2,2,4,4,5,5]    \n",
    "    answer = []\n",
    "    def answer_cnt(std):        \n",
    "        q,r = divmod(len(answers),len(std))\n",
    "        if q > 0:\n",
    "            std = std*q+std[:r]\n",
    "        return list(map(lambda x,y:x==y,answers,std)).count(True)    \n",
    "    max_cnt = max(answer_cnt(s1),answer_cnt(s2),answer_cnt(s3))\n",
    "    if max_cnt == answer_cnt(s1): answer.append(1)\n",
    "    if max_cnt == answer_cnt(s2): answer.append(2)\n",
    "    if max_cnt == answer_cnt(s3): answer.append(3)\n",
    "    return answer"
   ]
  },
  {
   "cell_type": "code",
   "execution_count": 94,
   "metadata": {},
   "outputs": [
    {
     "data": {
      "text/plain": [
       "[1, 3]"
      ]
     },
     "execution_count": 94,
     "metadata": {},
     "output_type": "execute_result"
    }
   ],
   "source": [
    "solution([1, 3])"
   ]
  }
 ],
 "metadata": {
  "kernelspec": {
   "display_name": "Python 3",
   "language": "python",
   "name": "python3"
  },
  "language_info": {
   "codemirror_mode": {
    "name": "ipython",
    "version": 3
   },
   "file_extension": ".py",
   "mimetype": "text/x-python",
   "name": "python",
   "nbconvert_exporter": "python",
   "pygments_lexer": "ipython3",
   "version": "3.8.2"
  }
 },
 "nbformat": 4,
 "nbformat_minor": 4
}
